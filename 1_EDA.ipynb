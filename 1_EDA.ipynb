{
  "cells": [
    {
      "cell_type": "markdown",
      "metadata": {
        "id": "view-in-github",
        "colab_type": "text"
      },
      "source": [
        "<a href=\"https://colab.research.google.com/github/khalidakram07/ML_Lifecycle_Templates/blob/main/1_EDA.ipynb\" target=\"_parent\"><img src=\"https://colab.research.google.com/assets/colab-badge.svg\" alt=\"Open In Colab\"/></a>"
      ]
    },
    {
      "cell_type": "code",
      "execution_count": null,
      "id": "32fa3043",
      "metadata": {
        "id": "32fa3043"
      },
      "outputs": [],
      "source": [
        "from google.colab import drive\n",
        "import seaborn\n",
        "import pandas\n",
        "import matplotlib.pyplot as plt\n",
        "import numpy as np\n",
        "import pandas as pd\n",
        "from pandas import DataFrame\n",
        "import matplotlib.pyplot as plt\n",
        "import seaborn as sns\n",
        "import statsmodels.formula.api as sm2\n",
        "from sklearn.metrics import confusion_matrix\n",
        "from sklearn.metrics import classification_report\n",
        "\n",
        "\n",
        "import statsmodels.api as sm\n",
        "import seaborn as sb\n",
        "sb.set_theme(style='ticks')\n",
        "from patsy import dmatrices\n",
        "\n",
        "from sklearn import metrics"
      ]
    },
    {
      "cell_type": "code",
      "source": [
        "drive.mount('/content/drive')"
      ],
      "metadata": {
        "colab": {
          "base_uri": "https://localhost:8080/"
        },
        "id": "O5CShXqnOoNs",
        "outputId": "3e3cde6c-01b0-46e3-ffc7-6daa94ab0594"
      },
      "id": "O5CShXqnOoNs",
      "execution_count": null,
      "outputs": [
        {
          "output_type": "stream",
          "name": "stdout",
          "text": [
            "Mounted at /content/drive\n"
          ]
        }
      ]
    },
    {
      "cell_type": "code",
      "source": [
        "df = pandas.read_csv(r'/content/drive/MyDrive/Data_visiualization/assignment-2-k2171223.csv',index_col=False)\n",
        "#res = seaborn.scatterplot(x=\"client_value_1\", y=\"engagement_index_1\", data=df)\n",
        "#plt.show()"
      ],
      "metadata": {
        "id": "NP8WilNNdEJ7"
      },
      "execution_count": null,
      "outputs": [],
      "id": "NP8WilNNdEJ7"
    },
    {
      "cell_type": "code",
      "source": [
        "df"
      ],
      "metadata": {
        "colab": {
          "base_uri": "https://localhost:8080/",
          "height": 423
        },
        "id": "JG7JtojjCQ3N",
        "outputId": "3575fe0c-646f-4b88-8790-a8c6bab52832"
      },
      "id": "JG7JtojjCQ3N",
      "execution_count": null,
      "outputs": [
        {
          "output_type": "execute_result",
          "data": {
            "text/plain": [
              "      good  dirty  wait  lastyear  usa\n",
              "0        0      0  4.88         2    1\n",
              "1        1      0  0.05         1    1\n",
              "2        0      0  0.55         1    1\n",
              "3        1      0  0.80         1    1\n",
              "4        1      0  0.30         4    1\n",
              "...    ...    ...   ...       ...  ...\n",
              "3646     0      0  4.81         7    1\n",
              "3647     1      0  0.80         2    1\n",
              "3648     0      1  4.00         1    1\n",
              "3649     0      1  4.00         1    1\n",
              "3650     0      1  0.30         1    1\n",
              "\n",
              "[3651 rows x 5 columns]"
            ],
            "text/html": [
              "\n",
              "  <div id=\"df-dfac898e-2225-402f-afb1-d3f6ce707f99\">\n",
              "    <div class=\"colab-df-container\">\n",
              "      <div>\n",
              "<style scoped>\n",
              "    .dataframe tbody tr th:only-of-type {\n",
              "        vertical-align: middle;\n",
              "    }\n",
              "\n",
              "    .dataframe tbody tr th {\n",
              "        vertical-align: top;\n",
              "    }\n",
              "\n",
              "    .dataframe thead th {\n",
              "        text-align: right;\n",
              "    }\n",
              "</style>\n",
              "<table border=\"1\" class=\"dataframe\">\n",
              "  <thead>\n",
              "    <tr style=\"text-align: right;\">\n",
              "      <th></th>\n",
              "      <th>good</th>\n",
              "      <th>dirty</th>\n",
              "      <th>wait</th>\n",
              "      <th>lastyear</th>\n",
              "      <th>usa</th>\n",
              "    </tr>\n",
              "  </thead>\n",
              "  <tbody>\n",
              "    <tr>\n",
              "      <th>0</th>\n",
              "      <td>0</td>\n",
              "      <td>0</td>\n",
              "      <td>4.88</td>\n",
              "      <td>2</td>\n",
              "      <td>1</td>\n",
              "    </tr>\n",
              "    <tr>\n",
              "      <th>1</th>\n",
              "      <td>1</td>\n",
              "      <td>0</td>\n",
              "      <td>0.05</td>\n",
              "      <td>1</td>\n",
              "      <td>1</td>\n",
              "    </tr>\n",
              "    <tr>\n",
              "      <th>2</th>\n",
              "      <td>0</td>\n",
              "      <td>0</td>\n",
              "      <td>0.55</td>\n",
              "      <td>1</td>\n",
              "      <td>1</td>\n",
              "    </tr>\n",
              "    <tr>\n",
              "      <th>3</th>\n",
              "      <td>1</td>\n",
              "      <td>0</td>\n",
              "      <td>0.80</td>\n",
              "      <td>1</td>\n",
              "      <td>1</td>\n",
              "    </tr>\n",
              "    <tr>\n",
              "      <th>4</th>\n",
              "      <td>1</td>\n",
              "      <td>0</td>\n",
              "      <td>0.30</td>\n",
              "      <td>4</td>\n",
              "      <td>1</td>\n",
              "    </tr>\n",
              "    <tr>\n",
              "      <th>...</th>\n",
              "      <td>...</td>\n",
              "      <td>...</td>\n",
              "      <td>...</td>\n",
              "      <td>...</td>\n",
              "      <td>...</td>\n",
              "    </tr>\n",
              "    <tr>\n",
              "      <th>3646</th>\n",
              "      <td>0</td>\n",
              "      <td>0</td>\n",
              "      <td>4.81</td>\n",
              "      <td>7</td>\n",
              "      <td>1</td>\n",
              "    </tr>\n",
              "    <tr>\n",
              "      <th>3647</th>\n",
              "      <td>1</td>\n",
              "      <td>0</td>\n",
              "      <td>0.80</td>\n",
              "      <td>2</td>\n",
              "      <td>1</td>\n",
              "    </tr>\n",
              "    <tr>\n",
              "      <th>3648</th>\n",
              "      <td>0</td>\n",
              "      <td>1</td>\n",
              "      <td>4.00</td>\n",
              "      <td>1</td>\n",
              "      <td>1</td>\n",
              "    </tr>\n",
              "    <tr>\n",
              "      <th>3649</th>\n",
              "      <td>0</td>\n",
              "      <td>1</td>\n",
              "      <td>4.00</td>\n",
              "      <td>1</td>\n",
              "      <td>1</td>\n",
              "    </tr>\n",
              "    <tr>\n",
              "      <th>3650</th>\n",
              "      <td>0</td>\n",
              "      <td>1</td>\n",
              "      <td>0.30</td>\n",
              "      <td>1</td>\n",
              "      <td>1</td>\n",
              "    </tr>\n",
              "  </tbody>\n",
              "</table>\n",
              "<p>3651 rows × 5 columns</p>\n",
              "</div>\n",
              "      <button class=\"colab-df-convert\" onclick=\"convertToInteractive('df-dfac898e-2225-402f-afb1-d3f6ce707f99')\"\n",
              "              title=\"Convert this dataframe to an interactive table.\"\n",
              "              style=\"display:none;\">\n",
              "        \n",
              "  <svg xmlns=\"http://www.w3.org/2000/svg\" height=\"24px\"viewBox=\"0 0 24 24\"\n",
              "       width=\"24px\">\n",
              "    <path d=\"M0 0h24v24H0V0z\" fill=\"none\"/>\n",
              "    <path d=\"M18.56 5.44l.94 2.06.94-2.06 2.06-.94-2.06-.94-.94-2.06-.94 2.06-2.06.94zm-11 1L8.5 8.5l.94-2.06 2.06-.94-2.06-.94L8.5 2.5l-.94 2.06-2.06.94zm10 10l.94 2.06.94-2.06 2.06-.94-2.06-.94-.94-2.06-.94 2.06-2.06.94z\"/><path d=\"M17.41 7.96l-1.37-1.37c-.4-.4-.92-.59-1.43-.59-.52 0-1.04.2-1.43.59L10.3 9.45l-7.72 7.72c-.78.78-.78 2.05 0 2.83L4 21.41c.39.39.9.59 1.41.59.51 0 1.02-.2 1.41-.59l7.78-7.78 2.81-2.81c.8-.78.8-2.07 0-2.86zM5.41 20L4 18.59l7.72-7.72 1.47 1.35L5.41 20z\"/>\n",
              "  </svg>\n",
              "      </button>\n",
              "      \n",
              "  <style>\n",
              "    .colab-df-container {\n",
              "      display:flex;\n",
              "      flex-wrap:wrap;\n",
              "      gap: 12px;\n",
              "    }\n",
              "\n",
              "    .colab-df-convert {\n",
              "      background-color: #E8F0FE;\n",
              "      border: none;\n",
              "      border-radius: 50%;\n",
              "      cursor: pointer;\n",
              "      display: none;\n",
              "      fill: #1967D2;\n",
              "      height: 32px;\n",
              "      padding: 0 0 0 0;\n",
              "      width: 32px;\n",
              "    }\n",
              "\n",
              "    .colab-df-convert:hover {\n",
              "      background-color: #E2EBFA;\n",
              "      box-shadow: 0px 1px 2px rgba(60, 64, 67, 0.3), 0px 1px 3px 1px rgba(60, 64, 67, 0.15);\n",
              "      fill: #174EA6;\n",
              "    }\n",
              "\n",
              "    [theme=dark] .colab-df-convert {\n",
              "      background-color: #3B4455;\n",
              "      fill: #D2E3FC;\n",
              "    }\n",
              "\n",
              "    [theme=dark] .colab-df-convert:hover {\n",
              "      background-color: #434B5C;\n",
              "      box-shadow: 0px 1px 3px 1px rgba(0, 0, 0, 0.15);\n",
              "      filter: drop-shadow(0px 1px 2px rgba(0, 0, 0, 0.3));\n",
              "      fill: #FFFFFF;\n",
              "    }\n",
              "  </style>\n",
              "\n",
              "      <script>\n",
              "        const buttonEl =\n",
              "          document.querySelector('#df-dfac898e-2225-402f-afb1-d3f6ce707f99 button.colab-df-convert');\n",
              "        buttonEl.style.display =\n",
              "          google.colab.kernel.accessAllowed ? 'block' : 'none';\n",
              "\n",
              "        async function convertToInteractive(key) {\n",
              "          const element = document.querySelector('#df-dfac898e-2225-402f-afb1-d3f6ce707f99');\n",
              "          const dataTable =\n",
              "            await google.colab.kernel.invokeFunction('convertToInteractive',\n",
              "                                                     [key], {});\n",
              "          if (!dataTable) return;\n",
              "\n",
              "          const docLinkHtml = 'Like what you see? Visit the ' +\n",
              "            '<a target=\"_blank\" href=https://colab.research.google.com/notebooks/data_table.ipynb>data table notebook</a>'\n",
              "            + ' to learn more about interactive tables.';\n",
              "          element.innerHTML = '';\n",
              "          dataTable['output_type'] = 'display_data';\n",
              "          await google.colab.output.renderOutput(dataTable, element);\n",
              "          const docLink = document.createElement('div');\n",
              "          docLink.innerHTML = docLinkHtml;\n",
              "          element.appendChild(docLink);\n",
              "        }\n",
              "      </script>\n",
              "    </div>\n",
              "  </div>\n",
              "  "
            ]
          },
          "metadata": {},
          "execution_count": 3
        }
      ]
    },
    {
      "cell_type": "code",
      "source": [
        "df"
      ],
      "metadata": {
        "colab": {
          "base_uri": "https://localhost:8080/",
          "height": 424
        },
        "id": "PotXUKDNdSlm",
        "outputId": "f434f074-bd84-404a-a0fc-2fca70382d45"
      },
      "execution_count": null,
      "outputs": [
        {
          "output_type": "execute_result",
          "data": {
            "text/plain": [
              "      good  dirty  wait  lastyear  usa\n",
              "0        0      0  4.88         2    1\n",
              "1        1      0  0.05         1    1\n",
              "2        0      0  0.55         1    1\n",
              "3        1      0  0.80         1    1\n",
              "4        1      0  0.30         4    1\n",
              "...    ...    ...   ...       ...  ...\n",
              "3646     0      0  4.81         7    1\n",
              "3647     1      0  0.80         2    1\n",
              "3648     0      1  4.00         1    1\n",
              "3649     0      1  4.00         1    1\n",
              "3650     0      1  0.30         1    1\n",
              "\n",
              "[3651 rows x 5 columns]"
            ],
            "text/html": [
              "\n",
              "  <div id=\"df-84ab3608-f027-41dd-9d81-46fc88ca23c2\">\n",
              "    <div class=\"colab-df-container\">\n",
              "      <div>\n",
              "<style scoped>\n",
              "    .dataframe tbody tr th:only-of-type {\n",
              "        vertical-align: middle;\n",
              "    }\n",
              "\n",
              "    .dataframe tbody tr th {\n",
              "        vertical-align: top;\n",
              "    }\n",
              "\n",
              "    .dataframe thead th {\n",
              "        text-align: right;\n",
              "    }\n",
              "</style>\n",
              "<table border=\"1\" class=\"dataframe\">\n",
              "  <thead>\n",
              "    <tr style=\"text-align: right;\">\n",
              "      <th></th>\n",
              "      <th>good</th>\n",
              "      <th>dirty</th>\n",
              "      <th>wait</th>\n",
              "      <th>lastyear</th>\n",
              "      <th>usa</th>\n",
              "    </tr>\n",
              "  </thead>\n",
              "  <tbody>\n",
              "    <tr>\n",
              "      <th>0</th>\n",
              "      <td>0</td>\n",
              "      <td>0</td>\n",
              "      <td>4.88</td>\n",
              "      <td>2</td>\n",
              "      <td>1</td>\n",
              "    </tr>\n",
              "    <tr>\n",
              "      <th>1</th>\n",
              "      <td>1</td>\n",
              "      <td>0</td>\n",
              "      <td>0.05</td>\n",
              "      <td>1</td>\n",
              "      <td>1</td>\n",
              "    </tr>\n",
              "    <tr>\n",
              "      <th>2</th>\n",
              "      <td>0</td>\n",
              "      <td>0</td>\n",
              "      <td>0.55</td>\n",
              "      <td>1</td>\n",
              "      <td>1</td>\n",
              "    </tr>\n",
              "    <tr>\n",
              "      <th>3</th>\n",
              "      <td>1</td>\n",
              "      <td>0</td>\n",
              "      <td>0.80</td>\n",
              "      <td>1</td>\n",
              "      <td>1</td>\n",
              "    </tr>\n",
              "    <tr>\n",
              "      <th>4</th>\n",
              "      <td>1</td>\n",
              "      <td>0</td>\n",
              "      <td>0.30</td>\n",
              "      <td>4</td>\n",
              "      <td>1</td>\n",
              "    </tr>\n",
              "    <tr>\n",
              "      <th>...</th>\n",
              "      <td>...</td>\n",
              "      <td>...</td>\n",
              "      <td>...</td>\n",
              "      <td>...</td>\n",
              "      <td>...</td>\n",
              "    </tr>\n",
              "    <tr>\n",
              "      <th>3646</th>\n",
              "      <td>0</td>\n",
              "      <td>0</td>\n",
              "      <td>4.81</td>\n",
              "      <td>7</td>\n",
              "      <td>1</td>\n",
              "    </tr>\n",
              "    <tr>\n",
              "      <th>3647</th>\n",
              "      <td>1</td>\n",
              "      <td>0</td>\n",
              "      <td>0.80</td>\n",
              "      <td>2</td>\n",
              "      <td>1</td>\n",
              "    </tr>\n",
              "    <tr>\n",
              "      <th>3648</th>\n",
              "      <td>0</td>\n",
              "      <td>1</td>\n",
              "      <td>4.00</td>\n",
              "      <td>1</td>\n",
              "      <td>1</td>\n",
              "    </tr>\n",
              "    <tr>\n",
              "      <th>3649</th>\n",
              "      <td>0</td>\n",
              "      <td>1</td>\n",
              "      <td>4.00</td>\n",
              "      <td>1</td>\n",
              "      <td>1</td>\n",
              "    </tr>\n",
              "    <tr>\n",
              "      <th>3650</th>\n",
              "      <td>0</td>\n",
              "      <td>1</td>\n",
              "      <td>0.30</td>\n",
              "      <td>1</td>\n",
              "      <td>1</td>\n",
              "    </tr>\n",
              "  </tbody>\n",
              "</table>\n",
              "<p>3651 rows × 5 columns</p>\n",
              "</div>\n",
              "      <button class=\"colab-df-convert\" onclick=\"convertToInteractive('df-84ab3608-f027-41dd-9d81-46fc88ca23c2')\"\n",
              "              title=\"Convert this dataframe to an interactive table.\"\n",
              "              style=\"display:none;\">\n",
              "        \n",
              "  <svg xmlns=\"http://www.w3.org/2000/svg\" height=\"24px\"viewBox=\"0 0 24 24\"\n",
              "       width=\"24px\">\n",
              "    <path d=\"M0 0h24v24H0V0z\" fill=\"none\"/>\n",
              "    <path d=\"M18.56 5.44l.94 2.06.94-2.06 2.06-.94-2.06-.94-.94-2.06-.94 2.06-2.06.94zm-11 1L8.5 8.5l.94-2.06 2.06-.94-2.06-.94L8.5 2.5l-.94 2.06-2.06.94zm10 10l.94 2.06.94-2.06 2.06-.94-2.06-.94-.94-2.06-.94 2.06-2.06.94z\"/><path d=\"M17.41 7.96l-1.37-1.37c-.4-.4-.92-.59-1.43-.59-.52 0-1.04.2-1.43.59L10.3 9.45l-7.72 7.72c-.78.78-.78 2.05 0 2.83L4 21.41c.39.39.9.59 1.41.59.51 0 1.02-.2 1.41-.59l7.78-7.78 2.81-2.81c.8-.78.8-2.07 0-2.86zM5.41 20L4 18.59l7.72-7.72 1.47 1.35L5.41 20z\"/>\n",
              "  </svg>\n",
              "      </button>\n",
              "      \n",
              "  <style>\n",
              "    .colab-df-container {\n",
              "      display:flex;\n",
              "      flex-wrap:wrap;\n",
              "      gap: 12px;\n",
              "    }\n",
              "\n",
              "    .colab-df-convert {\n",
              "      background-color: #E8F0FE;\n",
              "      border: none;\n",
              "      border-radius: 50%;\n",
              "      cursor: pointer;\n",
              "      display: none;\n",
              "      fill: #1967D2;\n",
              "      height: 32px;\n",
              "      padding: 0 0 0 0;\n",
              "      width: 32px;\n",
              "    }\n",
              "\n",
              "    .colab-df-convert:hover {\n",
              "      background-color: #E2EBFA;\n",
              "      box-shadow: 0px 1px 2px rgba(60, 64, 67, 0.3), 0px 1px 3px 1px rgba(60, 64, 67, 0.15);\n",
              "      fill: #174EA6;\n",
              "    }\n",
              "\n",
              "    [theme=dark] .colab-df-convert {\n",
              "      background-color: #3B4455;\n",
              "      fill: #D2E3FC;\n",
              "    }\n",
              "\n",
              "    [theme=dark] .colab-df-convert:hover {\n",
              "      background-color: #434B5C;\n",
              "      box-shadow: 0px 1px 3px 1px rgba(0, 0, 0, 0.15);\n",
              "      filter: drop-shadow(0px 1px 2px rgba(0, 0, 0, 0.3));\n",
              "      fill: #FFFFFF;\n",
              "    }\n",
              "  </style>\n",
              "\n",
              "      <script>\n",
              "        const buttonEl =\n",
              "          document.querySelector('#df-84ab3608-f027-41dd-9d81-46fc88ca23c2 button.colab-df-convert');\n",
              "        buttonEl.style.display =\n",
              "          google.colab.kernel.accessAllowed ? 'block' : 'none';\n",
              "\n",
              "        async function convertToInteractive(key) {\n",
              "          const element = document.querySelector('#df-84ab3608-f027-41dd-9d81-46fc88ca23c2');\n",
              "          const dataTable =\n",
              "            await google.colab.kernel.invokeFunction('convertToInteractive',\n",
              "                                                     [key], {});\n",
              "          if (!dataTable) return;\n",
              "\n",
              "          const docLinkHtml = 'Like what you see? Visit the ' +\n",
              "            '<a target=\"_blank\" href=https://colab.research.google.com/notebooks/data_table.ipynb>data table notebook</a>'\n",
              "            + ' to learn more about interactive tables.';\n",
              "          element.innerHTML = '';\n",
              "          dataTable['output_type'] = 'display_data';\n",
              "          await google.colab.output.renderOutput(dataTable, element);\n",
              "          const docLink = document.createElement('div');\n",
              "          docLink.innerHTML = docLinkHtml;\n",
              "          element.appendChild(docLink);\n",
              "        }\n",
              "      </script>\n",
              "    </div>\n",
              "  </div>\n",
              "  "
            ]
          },
          "metadata": {},
          "execution_count": 9
        }
      ],
      "id": "PotXUKDNdSlm"
    },
    {
      "cell_type": "code",
      "source": [
        "df.info()"
      ],
      "metadata": {
        "colab": {
          "base_uri": "https://localhost:8080/"
        },
        "id": "Dmf9kXHQspqP",
        "outputId": "f0288153-878c-492a-d81e-71d829ae19d9"
      },
      "execution_count": null,
      "outputs": [
        {
          "output_type": "stream",
          "name": "stdout",
          "text": [
            "<class 'pandas.core.frame.DataFrame'>\n",
            "RangeIndex: 3651 entries, 0 to 3650\n",
            "Data columns (total 5 columns):\n",
            " #   Column    Non-Null Count  Dtype  \n",
            "---  ------    --------------  -----  \n",
            " 0   good      3651 non-null   int64  \n",
            " 1   dirty     3651 non-null   int64  \n",
            " 2   wait      3651 non-null   float64\n",
            " 3   lastyear  3651 non-null   int64  \n",
            " 4   usa       3651 non-null   int64  \n",
            "dtypes: float64(1), int64(4)\n",
            "memory usage: 142.7 KB\n"
          ]
        }
      ],
      "id": "Dmf9kXHQspqP"
    },
    {
      "cell_type": "code",
      "source": [
        "df"
      ],
      "metadata": {
        "colab": {
          "base_uri": "https://localhost:8080/",
          "height": 424
        },
        "id": "PruQIT4OjULE",
        "outputId": "e453069f-7f16-412d-d51f-512975989d3d"
      },
      "execution_count": null,
      "outputs": [
        {
          "output_type": "execute_result",
          "data": {
            "text/plain": [
              "      good  dirty  wait  lastyear  usa\n",
              "0        0      0  4.88         2    1\n",
              "1        1      0  0.05         1    1\n",
              "2        0      0  0.55         1    1\n",
              "3        1      0  0.80         1    1\n",
              "4        1      0  0.30         4    1\n",
              "...    ...    ...   ...       ...  ...\n",
              "3646     0      0  4.81         7    1\n",
              "3647     1      0  0.80         2    1\n",
              "3648     0      1  4.00         1    1\n",
              "3649     0      1  4.00         1    1\n",
              "3650     0      1  0.30         1    1\n",
              "\n",
              "[3651 rows x 5 columns]"
            ],
            "text/html": [
              "\n",
              "  <div id=\"df-c71cafdf-7c0a-41d5-8955-3fa3099663b0\">\n",
              "    <div class=\"colab-df-container\">\n",
              "      <div>\n",
              "<style scoped>\n",
              "    .dataframe tbody tr th:only-of-type {\n",
              "        vertical-align: middle;\n",
              "    }\n",
              "\n",
              "    .dataframe tbody tr th {\n",
              "        vertical-align: top;\n",
              "    }\n",
              "\n",
              "    .dataframe thead th {\n",
              "        text-align: right;\n",
              "    }\n",
              "</style>\n",
              "<table border=\"1\" class=\"dataframe\">\n",
              "  <thead>\n",
              "    <tr style=\"text-align: right;\">\n",
              "      <th></th>\n",
              "      <th>good</th>\n",
              "      <th>dirty</th>\n",
              "      <th>wait</th>\n",
              "      <th>lastyear</th>\n",
              "      <th>usa</th>\n",
              "    </tr>\n",
              "  </thead>\n",
              "  <tbody>\n",
              "    <tr>\n",
              "      <th>0</th>\n",
              "      <td>0</td>\n",
              "      <td>0</td>\n",
              "      <td>4.88</td>\n",
              "      <td>2</td>\n",
              "      <td>1</td>\n",
              "    </tr>\n",
              "    <tr>\n",
              "      <th>1</th>\n",
              "      <td>1</td>\n",
              "      <td>0</td>\n",
              "      <td>0.05</td>\n",
              "      <td>1</td>\n",
              "      <td>1</td>\n",
              "    </tr>\n",
              "    <tr>\n",
              "      <th>2</th>\n",
              "      <td>0</td>\n",
              "      <td>0</td>\n",
              "      <td>0.55</td>\n",
              "      <td>1</td>\n",
              "      <td>1</td>\n",
              "    </tr>\n",
              "    <tr>\n",
              "      <th>3</th>\n",
              "      <td>1</td>\n",
              "      <td>0</td>\n",
              "      <td>0.80</td>\n",
              "      <td>1</td>\n",
              "      <td>1</td>\n",
              "    </tr>\n",
              "    <tr>\n",
              "      <th>4</th>\n",
              "      <td>1</td>\n",
              "      <td>0</td>\n",
              "      <td>0.30</td>\n",
              "      <td>4</td>\n",
              "      <td>1</td>\n",
              "    </tr>\n",
              "    <tr>\n",
              "      <th>...</th>\n",
              "      <td>...</td>\n",
              "      <td>...</td>\n",
              "      <td>...</td>\n",
              "      <td>...</td>\n",
              "      <td>...</td>\n",
              "    </tr>\n",
              "    <tr>\n",
              "      <th>3646</th>\n",
              "      <td>0</td>\n",
              "      <td>0</td>\n",
              "      <td>4.81</td>\n",
              "      <td>7</td>\n",
              "      <td>1</td>\n",
              "    </tr>\n",
              "    <tr>\n",
              "      <th>3647</th>\n",
              "      <td>1</td>\n",
              "      <td>0</td>\n",
              "      <td>0.80</td>\n",
              "      <td>2</td>\n",
              "      <td>1</td>\n",
              "    </tr>\n",
              "    <tr>\n",
              "      <th>3648</th>\n",
              "      <td>0</td>\n",
              "      <td>1</td>\n",
              "      <td>4.00</td>\n",
              "      <td>1</td>\n",
              "      <td>1</td>\n",
              "    </tr>\n",
              "    <tr>\n",
              "      <th>3649</th>\n",
              "      <td>0</td>\n",
              "      <td>1</td>\n",
              "      <td>4.00</td>\n",
              "      <td>1</td>\n",
              "      <td>1</td>\n",
              "    </tr>\n",
              "    <tr>\n",
              "      <th>3650</th>\n",
              "      <td>0</td>\n",
              "      <td>1</td>\n",
              "      <td>0.30</td>\n",
              "      <td>1</td>\n",
              "      <td>1</td>\n",
              "    </tr>\n",
              "  </tbody>\n",
              "</table>\n",
              "<p>3651 rows × 5 columns</p>\n",
              "</div>\n",
              "      <button class=\"colab-df-convert\" onclick=\"convertToInteractive('df-c71cafdf-7c0a-41d5-8955-3fa3099663b0')\"\n",
              "              title=\"Convert this dataframe to an interactive table.\"\n",
              "              style=\"display:none;\">\n",
              "        \n",
              "  <svg xmlns=\"http://www.w3.org/2000/svg\" height=\"24px\"viewBox=\"0 0 24 24\"\n",
              "       width=\"24px\">\n",
              "    <path d=\"M0 0h24v24H0V0z\" fill=\"none\"/>\n",
              "    <path d=\"M18.56 5.44l.94 2.06.94-2.06 2.06-.94-2.06-.94-.94-2.06-.94 2.06-2.06.94zm-11 1L8.5 8.5l.94-2.06 2.06-.94-2.06-.94L8.5 2.5l-.94 2.06-2.06.94zm10 10l.94 2.06.94-2.06 2.06-.94-2.06-.94-.94-2.06-.94 2.06-2.06.94z\"/><path d=\"M17.41 7.96l-1.37-1.37c-.4-.4-.92-.59-1.43-.59-.52 0-1.04.2-1.43.59L10.3 9.45l-7.72 7.72c-.78.78-.78 2.05 0 2.83L4 21.41c.39.39.9.59 1.41.59.51 0 1.02-.2 1.41-.59l7.78-7.78 2.81-2.81c.8-.78.8-2.07 0-2.86zM5.41 20L4 18.59l7.72-7.72 1.47 1.35L5.41 20z\"/>\n",
              "  </svg>\n",
              "      </button>\n",
              "      \n",
              "  <style>\n",
              "    .colab-df-container {\n",
              "      display:flex;\n",
              "      flex-wrap:wrap;\n",
              "      gap: 12px;\n",
              "    }\n",
              "\n",
              "    .colab-df-convert {\n",
              "      background-color: #E8F0FE;\n",
              "      border: none;\n",
              "      border-radius: 50%;\n",
              "      cursor: pointer;\n",
              "      display: none;\n",
              "      fill: #1967D2;\n",
              "      height: 32px;\n",
              "      padding: 0 0 0 0;\n",
              "      width: 32px;\n",
              "    }\n",
              "\n",
              "    .colab-df-convert:hover {\n",
              "      background-color: #E2EBFA;\n",
              "      box-shadow: 0px 1px 2px rgba(60, 64, 67, 0.3), 0px 1px 3px 1px rgba(60, 64, 67, 0.15);\n",
              "      fill: #174EA6;\n",
              "    }\n",
              "\n",
              "    [theme=dark] .colab-df-convert {\n",
              "      background-color: #3B4455;\n",
              "      fill: #D2E3FC;\n",
              "    }\n",
              "\n",
              "    [theme=dark] .colab-df-convert:hover {\n",
              "      background-color: #434B5C;\n",
              "      box-shadow: 0px 1px 3px 1px rgba(0, 0, 0, 0.15);\n",
              "      filter: drop-shadow(0px 1px 2px rgba(0, 0, 0, 0.3));\n",
              "      fill: #FFFFFF;\n",
              "    }\n",
              "  </style>\n",
              "\n",
              "      <script>\n",
              "        const buttonEl =\n",
              "          document.querySelector('#df-c71cafdf-7c0a-41d5-8955-3fa3099663b0 button.colab-df-convert');\n",
              "        buttonEl.style.display =\n",
              "          google.colab.kernel.accessAllowed ? 'block' : 'none';\n",
              "\n",
              "        async function convertToInteractive(key) {\n",
              "          const element = document.querySelector('#df-c71cafdf-7c0a-41d5-8955-3fa3099663b0');\n",
              "          const dataTable =\n",
              "            await google.colab.kernel.invokeFunction('convertToInteractive',\n",
              "                                                     [key], {});\n",
              "          if (!dataTable) return;\n",
              "\n",
              "          const docLinkHtml = 'Like what you see? Visit the ' +\n",
              "            '<a target=\"_blank\" href=https://colab.research.google.com/notebooks/data_table.ipynb>data table notebook</a>'\n",
              "            + ' to learn more about interactive tables.';\n",
              "          element.innerHTML = '';\n",
              "          dataTable['output_type'] = 'display_data';\n",
              "          await google.colab.output.renderOutput(dataTable, element);\n",
              "          const docLink = document.createElement('div');\n",
              "          docLink.innerHTML = docLinkHtml;\n",
              "          element.appendChild(docLink);\n",
              "        }\n",
              "      </script>\n",
              "    </div>\n",
              "  </div>\n",
              "  "
            ]
          },
          "metadata": {},
          "execution_count": 11
        }
      ],
      "id": "PruQIT4OjULE"
    },
    {
      "cell_type": "code",
      "source": [
        "\n",
        "\n",
        "%matplotlib inline\n",
        "\n",
        "#df = pd.read_csv('dataset.csv', sep=',')\n",
        "\n",
        "sns.distplot(df['good'])"
      ],
      "metadata": {
        "colab": {
          "base_uri": "https://localhost:8080/",
          "height": 357
        },
        "id": "AUZ0Zlj4fAvh",
        "outputId": "1bbccf28-4b32-478e-b5e5-26677c3dd49e"
      },
      "execution_count": null,
      "outputs": [
        {
          "output_type": "stream",
          "name": "stderr",
          "text": [
            "/usr/local/lib/python3.8/dist-packages/seaborn/distributions.py:2619: FutureWarning: `distplot` is a deprecated function and will be removed in a future version. Please adapt your code to use either `displot` (a figure-level function with similar flexibility) or `histplot` (an axes-level function for histograms).\n",
            "  warnings.warn(msg, FutureWarning)\n"
          ]
        },
        {
          "output_type": "execute_result",
          "data": {
            "text/plain": [
              "<matplotlib.axes._subplots.AxesSubplot at 0x7f588fb625b0>"
            ]
          },
          "metadata": {},
          "execution_count": 12
        },
        {
          "output_type": "display_data",
          "data": {
            "text/plain": [
              "<Figure size 432x288 with 1 Axes>"
            ],
            "image/png": "[encoded data removed]"
          },
          "metadata": {
            "needs_background": "light"
          }
        }
      ],
      "id": "AUZ0Zlj4fAvh"
    },
    {
      "cell_type": "code",
      "source": [
        "\n",
        "sns.distplot(df['dirty'])"
      ],
      "metadata": {
        "colab": {
          "base_uri": "https://localhost:8080/",
          "height": 357
        },
        "id": "6ofqqRKNfJWQ",
        "outputId": "8eb05c99-c549-4749-c226-c1712b8aa973"
      },
      "execution_count": null,
      "outputs": [
        {
          "output_type": "stream",
          "name": "stderr",
          "text": [
            "/usr/local/lib/python3.8/dist-packages/seaborn/distributions.py:2619: FutureWarning: `distplot` is a deprecated function and will be removed in a future version. Please adapt your code to use either `displot` (a figure-level function with similar flexibility) or `histplot` (an axes-level function for histograms).\n",
            "  warnings.warn(msg, FutureWarning)\n"
          ]
        },
        {
          "output_type": "execute_result",
          "data": {
            "text/plain": [
              "<matplotlib.axes._subplots.AxesSubplot at 0x7f588fa445e0>"
            ]
          },
          "metadata": {},
          "execution_count": 13
        },
        {
          "output_type": "display_data",
          "data": {
            "text/plain": [
              "<Figure size 432x288 with 1 Axes>"
            ],
            "image/png": "[encoded data removed]"
          },
          "metadata": {
            "needs_background": "light"
          }
        }
      ],
      "id": "6ofqqRKNfJWQ"
    },
    {
      "cell_type": "code",
      "source": [
        "sns.distplot(df['wait'])"
      ],
      "metadata": {
        "colab": {
          "base_uri": "https://localhost:8080/",
          "height": 357
        },
        "id": "7nbV5diPSyF2",
        "outputId": "5107ea28-de2a-4321-b81d-ad34947c1b25"
      },
      "id": "7nbV5diPSyF2",
      "execution_count": null,
      "outputs": [
        {
          "output_type": "stream",
          "name": "stderr",
          "text": [
            "/usr/local/lib/python3.8/dist-packages/seaborn/distributions.py:2619: FutureWarning: `distplot` is a deprecated function and will be removed in a future version. Please adapt your code to use either `displot` (a figure-level function with similar flexibility) or `histplot` (an axes-level function for histograms).\n",
            "  warnings.warn(msg, FutureWarning)\n"
          ]
        },
        {
          "output_type": "execute_result",
          "data": {
            "text/plain": [
              "<matplotlib.axes._subplots.AxesSubplot at 0x7f588d471a90>"
            ]
          },
          "metadata": {},
          "execution_count": 14
        },
        {
          "output_type": "display_data",
          "data": {
            "text/plain": [
              "<Figure size 432x288 with 1 Axes>"
            ],
            "image/png": "[encoded data removed]"
          },
          "metadata": {
            "needs_background": "light"
          }
        }
      ]
    },
    {
      "cell_type": "code",
      "source": [
        "df.columns"
      ],
      "metadata": {
        "colab": {
          "base_uri": "https://localhost:8080/"
        },
        "id": "1P5kxuDCThk4",
        "outputId": "c5e721d6-bf15-4289-c07c-7643c6c8d8bf"
      },
      "id": "1P5kxuDCThk4",
      "execution_count": null,
      "outputs": [
        {
          "output_type": "execute_result",
          "data": {
            "text/plain": [
              "Index(['good', 'dirty', 'wait', 'lastyear', 'usa'], dtype='object')"
            ]
          },
          "metadata": {},
          "execution_count": 15
        }
      ]
    },
    {
      "cell_type": "code",
      "source": [
        "sns.distplot(df['lastyear'])"
      ],
      "metadata": {
        "colab": {
          "base_uri": "https://localhost:8080/",
          "height": 357
        },
        "id": "xz0aiIPbS58v",
        "outputId": "1e1f65ff-0fdd-4572-dbdb-3264a04bd365"
      },
      "id": "xz0aiIPbS58v",
      "execution_count": null,
      "outputs": [
        {
          "output_type": "stream",
          "name": "stderr",
          "text": [
            "/usr/local/lib/python3.8/dist-packages/seaborn/distributions.py:2619: FutureWarning: `distplot` is a deprecated function and will be removed in a future version. Please adapt your code to use either `displot` (a figure-level function with similar flexibility) or `histplot` (an axes-level function for histograms).\n",
            "  warnings.warn(msg, FutureWarning)\n"
          ]
        },
        {
          "output_type": "execute_result",
          "data": {
            "text/plain": [
              "<matplotlib.axes._subplots.AxesSubplot at 0x7f588d460d30>"
            ]
          },
          "metadata": {},
          "execution_count": 16
        },
        {
          "output_type": "display_data",
          "data": {
            "text/plain": [
              "<Figure size 432x288 with 1 Axes>"
            ],
            "image/png": "[encoded data removed]"
          },
          "metadata": {
            "needs_background": "light"
          }
        }
      ]
    },
    {
      "cell_type": "code",
      "source": [
        "sns.distplot(df['usa'])"
      ],
      "metadata": {
        "colab": {
          "base_uri": "https://localhost:8080/",
          "height": 357
        },
        "id": "P9gruO6MTr-h",
        "outputId": "e7e21b28-391a-4b4b-b9b8-4b73bad8bcde"
      },
      "id": "P9gruO6MTr-h",
      "execution_count": null,
      "outputs": [
        {
          "output_type": "stream",
          "name": "stderr",
          "text": [
            "/usr/local/lib/python3.8/dist-packages/seaborn/distributions.py:2619: FutureWarning: `distplot` is a deprecated function and will be removed in a future version. Please adapt your code to use either `displot` (a figure-level function with similar flexibility) or `histplot` (an axes-level function for histograms).\n",
            "  warnings.warn(msg, FutureWarning)\n"
          ]
        },
        {
          "output_type": "execute_result",
          "data": {
            "text/plain": [
              "<matplotlib.axes._subplots.AxesSubplot at 0x7f588d34ad00>"
            ]
          },
          "metadata": {},
          "execution_count": 17
        },
        {
          "output_type": "display_data",
          "data": {
            "text/plain": [
              "<Figure size 432x288 with 1 Axes>"
            ],
            "image/png": "[encoded data removed]"
          },
          "metadata": {
            "needs_background": "light"
          }
        }
      ]
    },
    {
      "cell_type": "code",
      "source": [
        "df.columns"
      ],
      "metadata": {
        "colab": {
          "base_uri": "https://localhost:8080/"
        },
        "id": "BsIOTFjBT-Ez",
        "outputId": "594721f7-b668-40e2-dd6f-f4c8f0f465fe"
      },
      "id": "BsIOTFjBT-Ez",
      "execution_count": null,
      "outputs": [
        {
          "output_type": "execute_result",
          "data": {
            "text/plain": [
              "Index(['good', 'dirty', 'wait', 'lastyear', 'usa'], dtype='object')"
            ]
          },
          "metadata": {},
          "execution_count": 18
        }
      ]
    },
    {
      "cell_type": "code",
      "source": [
        "df.good.value_counts()"
      ],
      "metadata": {
        "colab": {
          "base_uri": "https://localhost:8080/"
        },
        "id": "nLuetAMpT8bx",
        "outputId": "a6b7d451-16e6-494c-a612-4cf755fdf90c"
      },
      "id": "nLuetAMpT8bx",
      "execution_count": null,
      "outputs": [
        {
          "output_type": "execute_result",
          "data": {
            "text/plain": [
              "1    2135\n",
              "0    1516\n",
              "Name: good, dtype: int64"
            ]
          },
          "metadata": {},
          "execution_count": 19
        }
      ]
    },
    {
      "cell_type": "code",
      "source": [
        "df.dirty.value_counts()"
      ],
      "metadata": {
        "colab": {
          "base_uri": "https://localhost:8080/"
        },
        "id": "_xDvwxPlUA03",
        "outputId": "5a6bd798-eb57-4778-8769-6e4fb0aea6e6"
      },
      "id": "_xDvwxPlUA03",
      "execution_count": null,
      "outputs": [
        {
          "output_type": "execute_result",
          "data": {
            "text/plain": [
              "0    3403\n",
              "1     180\n",
              "2      53\n",
              "3      11\n",
              "5       2\n",
              "4       1\n",
              "6       1\n",
              "Name: dirty, dtype: int64"
            ]
          },
          "metadata": {},
          "execution_count": 20
        }
      ]
    },
    {
      "cell_type": "code",
      "source": [
        "df.wait.value_counts()"
      ],
      "metadata": {
        "colab": {
          "base_uri": "https://localhost:8080/"
        },
        "id": "VKDnX4MkUhgj",
        "outputId": "479e611b-401d-4f54-e4c8-44dc38bb558b"
      },
      "id": "VKDnX4MkUhgj",
      "execution_count": null,
      "outputs": [
        {
          "output_type": "execute_result",
          "data": {
            "text/plain": [
              "0.38    207\n",
              "4.90    180\n",
              "0.21    132\n",
              "4.98    131\n",
              "0.13    113\n",
              "       ... \n",
              "1.76      1\n",
              "4.41      1\n",
              "3.40      1\n",
              "1.48      1\n",
              "0.23      1\n",
              "Name: wait, Length: 297, dtype: int64"
            ]
          },
          "metadata": {},
          "execution_count": 21
        }
      ]
    },
    {
      "cell_type": "code",
      "source": [
        "df.lastyear.value_counts()"
      ],
      "metadata": {
        "colab": {
          "base_uri": "https://localhost:8080/"
        },
        "id": "1-lONRQHUoXm",
        "outputId": "33b82c39-81ad-4750-8e0a-a1bb4f65ae60"
      },
      "id": "1-lONRQHUoXm",
      "execution_count": null,
      "outputs": [
        {
          "output_type": "execute_result",
          "data": {
            "text/plain": [
              "1     1478\n",
              "2      751\n",
              "4      357\n",
              "3      311\n",
              "5      226\n",
              "      ... \n",
              "27       1\n",
              "63       1\n",
              "65       1\n",
              "37       1\n",
              "53       1\n",
              "Name: lastyear, Length: 62, dtype: int64"
            ]
          },
          "metadata": {},
          "execution_count": 22
        }
      ]
    },
    {
      "cell_type": "code",
      "source": [
        "df.lastyear.value_counts()"
      ],
      "metadata": {
        "id": "StMlwP_0Uvvc",
        "colab": {
          "base_uri": "https://localhost:8080/"
        },
        "outputId": "45a5c08e-ed59-488d-c3f9-1261e6018c0d"
      },
      "id": "StMlwP_0Uvvc",
      "execution_count": null,
      "outputs": [
        {
          "output_type": "execute_result",
          "data": {
            "text/plain": [
              "1     1478\n",
              "2      751\n",
              "4      357\n",
              "3      311\n",
              "5      226\n",
              "      ... \n",
              "27       1\n",
              "63       1\n",
              "65       1\n",
              "37       1\n",
              "53       1\n",
              "Name: lastyear, Length: 62, dtype: int64"
            ]
          },
          "metadata": {},
          "execution_count": 23
        }
      ]
    },
    {
      "cell_type": "code",
      "source": [
        "df.usa.value_counts()"
      ],
      "metadata": {
        "colab": {
          "base_uri": "https://localhost:8080/"
        },
        "id": "x88se367UES1",
        "outputId": "8acfd713-925c-42e9-8dcb-a36858b21bb6"
      },
      "id": "x88se367UES1",
      "execution_count": null,
      "outputs": [
        {
          "output_type": "execute_result",
          "data": {
            "text/plain": [
              "1    2759\n",
              "0     892\n",
              "Name: usa, dtype: int64"
            ]
          },
          "metadata": {},
          "execution_count": 24
        }
      ]
    },
    {
      "cell_type": "code",
      "source": [
        "sns.pairplot(df)"
      ],
      "metadata": {
        "colab": {
          "base_uri": "https://localhost:8080/",
          "height": 920
        },
        "id": "anH1bEw_fdw1",
        "outputId": "31507a50-09b0-4451-82fa-f9e05ce9db82"
      },
      "execution_count": null,
      "outputs": [
        {
          "output_type": "execute_result",
          "data": {
            "text/plain": [
              "<seaborn.axisgrid.PairGrid at 0x7f588d235820>"
            ]
          },
          "metadata": {},
          "execution_count": 25
        },
        {
          "output_type": "display_data",
          "data": {
            "text/plain": [
              "<Figure size 900x900 with 30 Axes>"
            ],
            "image/png": "[encoded data removed]"
          },
          "metadata": {
            "needs_background": "light"
          }
        }
      ],
      "id": "anH1bEw_fdw1"
    },
    {
      "cell_type": "code",
      "source": [
        "df.corr()"
      ],
      "metadata": {
        "colab": {
          "base_uri": "https://localhost:8080/",
          "height": 206
        },
        "id": "Qs88vtvKf6lY",
        "outputId": "17ef8f8b-b650-4dd9-9e48-dd7541702b7c"
      },
      "execution_count": null,
      "outputs": [
        {
          "output_type": "execute_result",
          "data": {
            "text/plain": [
              "              good     dirty      wait  lastyear       usa\n",
              "good      1.000000 -0.134984 -0.090823 -0.020940 -0.000497\n",
              "dirty    -0.134984  1.000000  0.000704  0.081746  0.045224\n",
              "wait     -0.090823  0.000704  1.000000  0.060451  0.099225\n",
              "lastyear -0.020940  0.081746  0.060451  1.000000  0.082141\n",
              "usa      -0.000497  0.045224  0.099225  0.082141  1.000000"
            ],
            "text/html": [
              "\n",
              "  <div id=\"df-57dbdbca-a380-40e2-b0d8-3c4f96655833\">\n",
              "    <div class=\"colab-df-container\">\n",
              "      <div>\n",
              "<style scoped>\n",
              "    .dataframe tbody tr th:only-of-type {\n",
              "        vertical-align: middle;\n",
              "    }\n",
              "\n",
              "    .dataframe tbody tr th {\n",
              "        vertical-align: top;\n",
              "    }\n",
              "\n",
              "    .dataframe thead th {\n",
              "        text-align: right;\n",
              "    }\n",
              "</style>\n",
              "<table border=\"1\" class=\"dataframe\">\n",
              "  <thead>\n",
              "    <tr style=\"text-align: right;\">\n",
              "      <th></th>\n",
              "      <th>good</th>\n",
              "      <th>dirty</th>\n",
              "      <th>wait</th>\n",
              "      <th>lastyear</th>\n",
              "      <th>usa</th>\n",
              "    </tr>\n",
              "  </thead>\n",
              "  <tbody>\n",
              "    <tr>\n",
              "      <th>good</th>\n",
              "      <td>1.000000</td>\n",
              "      <td>-0.134984</td>\n",
              "      <td>-0.090823</td>\n",
              "      <td>-0.020940</td>\n",
              "      <td>-0.000497</td>\n",
              "    </tr>\n",
              "    <tr>\n",
              "      <th>dirty</th>\n",
              "      <td>-0.134984</td>\n",
              "      <td>1.000000</td>\n",
              "      <td>0.000704</td>\n",
              "      <td>0.081746</td>\n",
              "      <td>0.045224</td>\n",
              "    </tr>\n",
              "    <tr>\n",
              "      <th>wait</th>\n",
              "      <td>-0.090823</td>\n",
              "      <td>0.000704</td>\n",
              "      <td>1.000000</td>\n",
              "      <td>0.060451</td>\n",
              "      <td>0.099225</td>\n",
              "    </tr>\n",
              "    <tr>\n",
              "      <th>lastyear</th>\n",
              "      <td>-0.020940</td>\n",
              "      <td>0.081746</td>\n",
              "      <td>0.060451</td>\n",
              "      <td>1.000000</td>\n",
              "      <td>0.082141</td>\n",
              "    </tr>\n",
              "    <tr>\n",
              "      <th>usa</th>\n",
              "      <td>-0.000497</td>\n",
              "      <td>0.045224</td>\n",
              "      <td>0.099225</td>\n",
              "      <td>0.082141</td>\n",
              "      <td>1.000000</td>\n",
              "    </tr>\n",
              "  </tbody>\n",
              "</table>\n",
              "</div>\n",
              "      <button class=\"colab-df-convert\" onclick=\"convertToInteractive('df-57dbdbca-a380-40e2-b0d8-3c4f96655833')\"\n",
              "              title=\"Convert this dataframe to an interactive table.\"\n",
              "              style=\"display:none;\">\n",
              "        \n",
              "  <svg xmlns=\"http://www.w3.org/2000/svg\" height=\"24px\"viewBox=\"0 0 24 24\"\n",
              "       width=\"24px\">\n",
              "    <path d=\"M0 0h24v24H0V0z\" fill=\"none\"/>\n",
              "    <path d=\"M18.56 5.44l.94 2.06.94-2.06 2.06-.94-2.06-.94-.94-2.06-.94 2.06-2.06.94zm-11 1L8.5 8.5l.94-2.06 2.06-.94-2.06-.94L8.5 2.5l-.94 2.06-2.06.94zm10 10l.94 2.06.94-2.06 2.06-.94-2.06-.94-.94-2.06-.94 2.06-2.06.94z\"/><path d=\"M17.41 7.96l-1.37-1.37c-.4-.4-.92-.59-1.43-.59-.52 0-1.04.2-1.43.59L10.3 9.45l-7.72 7.72c-.78.78-.78 2.05 0 2.83L4 21.41c.39.39.9.59 1.41.59.51 0 1.02-.2 1.41-.59l7.78-7.78 2.81-2.81c.8-.78.8-2.07 0-2.86zM5.41 20L4 18.59l7.72-7.72 1.47 1.35L5.41 20z\"/>\n",
              "  </svg>\n",
              "      </button>\n",
              "      \n",
              "  <style>\n",
              "    .colab-df-container {\n",
              "      display:flex;\n",
              "      flex-wrap:wrap;\n",
              "      gap: 12px;\n",
              "    }\n",
              "\n",
              "    .colab-df-convert {\n",
              "      background-color: #E8F0FE;\n",
              "      border: none;\n",
              "      border-radius: 50%;\n",
              "      cursor: pointer;\n",
              "      display: none;\n",
              "      fill: #1967D2;\n",
              "      height: 32px;\n",
              "      padding: 0 0 0 0;\n",
              "      width: 32px;\n",
              "    }\n",
              "\n",
              "    .colab-df-convert:hover {\n",
              "      background-color: #E2EBFA;\n",
              "      box-shadow: 0px 1px 2px rgba(60, 64, 67, 0.3), 0px 1px 3px 1px rgba(60, 64, 67, 0.15);\n",
              "      fill: #174EA6;\n",
              "    }\n",
              "\n",
              "    [theme=dark] .colab-df-convert {\n",
              "      background-color: #3B4455;\n",
              "      fill: #D2E3FC;\n",
              "    }\n",
              "\n",
              "    [theme=dark] .colab-df-convert:hover {\n",
              "      background-color: #434B5C;\n",
              "      box-shadow: 0px 1px 3px 1px rgba(0, 0, 0, 0.15);\n",
              "      filter: drop-shadow(0px 1px 2px rgba(0, 0, 0, 0.3));\n",
              "      fill: #FFFFFF;\n",
              "    }\n",
              "  </style>\n",
              "\n",
              "      <script>\n",
              "        const buttonEl =\n",
              "          document.querySelector('#df-57dbdbca-a380-40e2-b0d8-3c4f96655833 button.colab-df-convert');\n",
              "        buttonEl.style.display =\n",
              "          google.colab.kernel.accessAllowed ? 'block' : 'none';\n",
              "\n",
              "        async function convertToInteractive(key) {\n",
              "          const element = document.querySelector('#df-57dbdbca-a380-40e2-b0d8-3c4f96655833');\n",
              "          const dataTable =\n",
              "            await google.colab.kernel.invokeFunction('convertToInteractive',\n",
              "                                                     [key], {});\n",
              "          if (!dataTable) return;\n",
              "\n",
              "          const docLinkHtml = 'Like what you see? Visit the ' +\n",
              "            '<a target=\"_blank\" href=https://colab.research.google.com/notebooks/data_table.ipynb>data table notebook</a>'\n",
              "            + ' to learn more about interactive tables.';\n",
              "          element.innerHTML = '';\n",
              "          dataTable['output_type'] = 'display_data';\n",
              "          await google.colab.output.renderOutput(dataTable, element);\n",
              "          const docLink = document.createElement('div');\n",
              "          docLink.innerHTML = docLinkHtml;\n",
              "          element.appendChild(docLink);\n",
              "        }\n",
              "      </script>\n",
              "    </div>\n",
              "  </div>\n",
              "  "
            ]
          },
          "metadata": {},
          "execution_count": 26
        }
      ],
      "id": "Qs88vtvKf6lY"
    },
    {
      "cell_type": "code",
      "source": [
        "df.describe()"
      ],
      "metadata": {
        "colab": {
          "base_uri": "https://localhost:8080/",
          "height": 300
        },
        "id": "7HDjoTgJgrNK",
        "outputId": "bf08fdc6-b06f-4a16-c228-fd18fe96d69d"
      },
      "execution_count": null,
      "outputs": [
        {
          "output_type": "execute_result",
          "data": {
            "text/plain": [
              "              good        dirty         wait     lastyear          usa\n",
              "count  3651.000000  3651.000000  3651.000000  3651.000000  3651.000000\n",
              "mean      0.584771     0.092851     2.125839     3.945768     0.755683\n",
              "std       0.492829     0.392227     1.826712     7.385978     0.429740\n",
              "min       0.000000     0.000000     0.050000     0.000000     0.000000\n",
              "25%       0.000000     0.000000     0.550000     1.000000     1.000000\n",
              "50%       1.000000     0.000000     1.310000     2.000000     1.000000\n",
              "75%       1.000000     0.000000     4.350000     4.000000     1.000000\n",
              "max       1.000000     6.000000     5.060000    70.000000     1.000000"
            ],
            "text/html": [
              "\n",
              "  <div id=\"df-1e855759-da94-4f1b-bfab-f59662af9eff\">\n",
              "    <div class=\"colab-df-container\">\n",
              "      <div>\n",
              "<style scoped>\n",
              "    .dataframe tbody tr th:only-of-type {\n",
              "        vertical-align: middle;\n",
              "    }\n",
              "\n",
              "    .dataframe tbody tr th {\n",
              "        vertical-align: top;\n",
              "    }\n",
              "\n",
              "    .dataframe thead th {\n",
              "        text-align: right;\n",
              "    }\n",
              "</style>\n",
              "<table border=\"1\" class=\"dataframe\">\n",
              "  <thead>\n",
              "    <tr style=\"text-align: right;\">\n",
              "      <th></th>\n",
              "      <th>good</th>\n",
              "      <th>dirty</th>\n",
              "      <th>wait</th>\n",
              "      <th>lastyear</th>\n",
              "      <th>usa</th>\n",
              "    </tr>\n",
              "  </thead>\n",
              "  <tbody>\n",
              "    <tr>\n",
              "      <th>count</th>\n",
              "      <td>3651.000000</td>\n",
              "      <td>3651.000000</td>\n",
              "      <td>3651.000000</td>\n",
              "      <td>3651.000000</td>\n",
              "      <td>3651.000000</td>\n",
              "    </tr>\n",
              "    <tr>\n",
              "      <th>mean</th>\n",
              "      <td>0.584771</td>\n",
              "      <td>0.092851</td>\n",
              "      <td>2.125839</td>\n",
              "      <td>3.945768</td>\n",
              "      <td>0.755683</td>\n",
              "    </tr>\n",
              "    <tr>\n",
              "      <th>std</th>\n",
              "      <td>0.492829</td>\n",
              "      <td>0.392227</td>\n",
              "      <td>1.826712</td>\n",
              "      <td>7.385978</td>\n",
              "      <td>0.429740</td>\n",
              "    </tr>\n",
              "    <tr>\n",
              "      <th>min</th>\n",
              "      <td>0.000000</td>\n",
              "      <td>0.000000</td>\n",
              "      <td>0.050000</td>\n",
              "      <td>0.000000</td>\n",
              "      <td>0.000000</td>\n",
              "    </tr>\n",
              "    <tr>\n",
              "      <th>25%</th>\n",
              "      <td>0.000000</td>\n",
              "      <td>0.000000</td>\n",
              "      <td>0.550000</td>\n",
              "      <td>1.000000</td>\n",
              "      <td>1.000000</td>\n",
              "    </tr>\n",
              "    <tr>\n",
              "      <th>50%</th>\n",
              "      <td>1.000000</td>\n",
              "      <td>0.000000</td>\n",
              "      <td>1.310000</td>\n",
              "      <td>2.000000</td>\n",
              "      <td>1.000000</td>\n",
              "    </tr>\n",
              "    <tr>\n",
              "      <th>75%</th>\n",
              "      <td>1.000000</td>\n",
              "      <td>0.000000</td>\n",
              "      <td>4.350000</td>\n",
              "      <td>4.000000</td>\n",
              "      <td>1.000000</td>\n",
              "    </tr>\n",
              "    <tr>\n",
              "      <th>max</th>\n",
              "      <td>1.000000</td>\n",
              "      <td>6.000000</td>\n",
              "      <td>5.060000</td>\n",
              "      <td>70.000000</td>\n",
              "      <td>1.000000</td>\n",
              "    </tr>\n",
              "  </tbody>\n",
              "</table>\n",
              "</div>\n",
              "      <button class=\"colab-df-convert\" onclick=\"convertToInteractive('df-1e855759-da94-4f1b-bfab-f59662af9eff')\"\n",
              "              title=\"Convert this dataframe to an interactive table.\"\n",
              "              style=\"display:none;\">\n",
              "        \n",
              "  <svg xmlns=\"http://www.w3.org/2000/svg\" height=\"24px\"viewBox=\"0 0 24 24\"\n",
              "       width=\"24px\">\n",
              "    <path d=\"M0 0h24v24H0V0z\" fill=\"none\"/>\n",
              "    <path d=\"M18.56 5.44l.94 2.06.94-2.06 2.06-.94-2.06-.94-.94-2.06-.94 2.06-2.06.94zm-11 1L8.5 8.5l.94-2.06 2.06-.94-2.06-.94L8.5 2.5l-.94 2.06-2.06.94zm10 10l.94 2.06.94-2.06 2.06-.94-2.06-.94-.94-2.06-.94 2.06-2.06.94z\"/><path d=\"M17.41 7.96l-1.37-1.37c-.4-.4-.92-.59-1.43-.59-.52 0-1.04.2-1.43.59L10.3 9.45l-7.72 7.72c-.78.78-.78 2.05 0 2.83L4 21.41c.39.39.9.59 1.41.59.51 0 1.02-.2 1.41-.59l7.78-7.78 2.81-2.81c.8-.78.8-2.07 0-2.86zM5.41 20L4 18.59l7.72-7.72 1.47 1.35L5.41 20z\"/>\n",
              "  </svg>\n",
              "      </button>\n",
              "      \n",
              "  <style>\n",
              "    .colab-df-container {\n",
              "      display:flex;\n",
              "      flex-wrap:wrap;\n",
              "      gap: 12px;\n",
              "    }\n",
              "\n",
              "    .colab-df-convert {\n",
              "      background-color: #E8F0FE;\n",
              "      border: none;\n",
              "      border-radius: 50%;\n",
              "      cursor: pointer;\n",
              "      display: none;\n",
              "      fill: #1967D2;\n",
              "      height: 32px;\n",
              "      padding: 0 0 0 0;\n",
              "      width: 32px;\n",
              "    }\n",
              "\n",
              "    .colab-df-convert:hover {\n",
              "      background-color: #E2EBFA;\n",
              "      box-shadow: 0px 1px 2px rgba(60, 64, 67, 0.3), 0px 1px 3px 1px rgba(60, 64, 67, 0.15);\n",
              "      fill: #174EA6;\n",
              "    }\n",
              "\n",
              "    [theme=dark] .colab-df-convert {\n",
              "      background-color: #3B4455;\n",
              "      fill: #D2E3FC;\n",
              "    }\n",
              "\n",
              "    [theme=dark] .colab-df-convert:hover {\n",
              "      background-color: #434B5C;\n",
              "      box-shadow: 0px 1px 3px 1px rgba(0, 0, 0, 0.15);\n",
              "      filter: drop-shadow(0px 1px 2px rgba(0, 0, 0, 0.3));\n",
              "      fill: #FFFFFF;\n",
              "    }\n",
              "  </style>\n",
              "\n",
              "      <script>\n",
              "        const buttonEl =\n",
              "          document.querySelector('#df-1e855759-da94-4f1b-bfab-f59662af9eff button.colab-df-convert');\n",
              "        buttonEl.style.display =\n",
              "          google.colab.kernel.accessAllowed ? 'block' : 'none';\n",
              "\n",
              "        async function convertToInteractive(key) {\n",
              "          const element = document.querySelector('#df-1e855759-da94-4f1b-bfab-f59662af9eff');\n",
              "          const dataTable =\n",
              "            await google.colab.kernel.invokeFunction('convertToInteractive',\n",
              "                                                     [key], {});\n",
              "          if (!dataTable) return;\n",
              "\n",
              "          const docLinkHtml = 'Like what you see? Visit the ' +\n",
              "            '<a target=\"_blank\" href=https://colab.research.google.com/notebooks/data_table.ipynb>data table notebook</a>'\n",
              "            + ' to learn more about interactive tables.';\n",
              "          element.innerHTML = '';\n",
              "          dataTable['output_type'] = 'display_data';\n",
              "          await google.colab.output.renderOutput(dataTable, element);\n",
              "          const docLink = document.createElement('div');\n",
              "          docLink.innerHTML = docLinkHtml;\n",
              "          element.appendChild(docLink);\n",
              "        }\n",
              "      </script>\n",
              "    </div>\n",
              "  </div>\n",
              "  "
            ]
          },
          "metadata": {},
          "execution_count": 27
        }
      ],
      "id": "7HDjoTgJgrNK"
    },
    {
      "cell_type": "code",
      "source": [],
      "metadata": {
        "id": "9R7rgQ_IWyGu"
      },
      "id": "9R7rgQ_IWyGu",
      "execution_count": null,
      "outputs": []
    },
    {
      "cell_type": "markdown",
      "source": [
        "# A visualisation of ‘wait’ and ‘usa’ , highlighting the observations where the binary\n",
        "# outcome was positive, with a brief explanation of what you can interpret from it."
      ],
      "metadata": {
        "id": "-c17s8CYWkgx"
      },
      "id": "-c17s8CYWkgx"
    },
    {
      "cell_type": "code",
      "source": [
        "df1=df[['wait','usa','good']]\n",
        "df1"
      ],
      "metadata": {
        "colab": {
          "base_uri": "https://localhost:8080/",
          "height": 424
        },
        "id": "_QIX6Bu5Wy_n",
        "outputId": "36574668-8848-4c27-e6d9-232d171576cb"
      },
      "id": "_QIX6Bu5Wy_n",
      "execution_count": null,
      "outputs": [
        {
          "output_type": "execute_result",
          "data": {
            "text/plain": [
              "      wait  usa  good\n",
              "0     4.88    1     0\n",
              "1     0.05    1     1\n",
              "2     0.55    1     0\n",
              "3     0.80    1     1\n",
              "4     0.30    1     1\n",
              "...    ...  ...   ...\n",
              "3646  4.81    1     0\n",
              "3647  0.80    1     1\n",
              "3648  4.00    1     0\n",
              "3649  4.00    1     0\n",
              "3650  0.30    1     0\n",
              "\n",
              "[3651 rows x 3 columns]"
            ],
            "text/html": [
              "\n",
              "  <div id=\"df-b9d38cac-acf6-465f-a2a0-f874fe631c83\">\n",
              "    <div class=\"colab-df-container\">\n",
              "      <div>\n",
              "<style scoped>\n",
              "    .dataframe tbody tr th:only-of-type {\n",
              "        vertical-align: middle;\n",
              "    }\n",
              "\n",
              "    .dataframe tbody tr th {\n",
              "        vertical-align: top;\n",
              "    }\n",
              "\n",
              "    .dataframe thead th {\n",
              "        text-align: right;\n",
              "    }\n",
              "</style>\n",
              "<table border=\"1\" class=\"dataframe\">\n",
              "  <thead>\n",
              "    <tr style=\"text-align: right;\">\n",
              "      <th></th>\n",
              "      <th>wait</th>\n",
              "      <th>usa</th>\n",
              "      <th>good</th>\n",
              "    </tr>\n",
              "  </thead>\n",
              "  <tbody>\n",
              "    <tr>\n",
              "      <th>0</th>\n",
              "      <td>4.88</td>\n",
              "      <td>1</td>\n",
              "      <td>0</td>\n",
              "    </tr>\n",
              "    <tr>\n",
              "      <th>1</th>\n",
              "      <td>0.05</td>\n",
              "      <td>1</td>\n",
              "      <td>1</td>\n",
              "    </tr>\n",
              "    <tr>\n",
              "      <th>2</th>\n",
              "      <td>0.55</td>\n",
              "      <td>1</td>\n",
              "      <td>0</td>\n",
              "    </tr>\n",
              "    <tr>\n",
              "      <th>3</th>\n",
              "      <td>0.80</td>\n",
              "      <td>1</td>\n",
              "      <td>1</td>\n",
              "    </tr>\n",
              "    <tr>\n",
              "      <th>4</th>\n",
              "      <td>0.30</td>\n",
              "      <td>1</td>\n",
              "      <td>1</td>\n",
              "    </tr>\n",
              "    <tr>\n",
              "      <th>...</th>\n",
              "      <td>...</td>\n",
              "      <td>...</td>\n",
              "      <td>...</td>\n",
              "    </tr>\n",
              "    <tr>\n",
              "      <th>3646</th>\n",
              "      <td>4.81</td>\n",
              "      <td>1</td>\n",
              "      <td>0</td>\n",
              "    </tr>\n",
              "    <tr>\n",
              "      <th>3647</th>\n",
              "      <td>0.80</td>\n",
              "      <td>1</td>\n",
              "      <td>1</td>\n",
              "    </tr>\n",
              "    <tr>\n",
              "      <th>3648</th>\n",
              "      <td>4.00</td>\n",
              "      <td>1</td>\n",
              "      <td>0</td>\n",
              "    </tr>\n",
              "    <tr>\n",
              "      <th>3649</th>\n",
              "      <td>4.00</td>\n",
              "      <td>1</td>\n",
              "      <td>0</td>\n",
              "    </tr>\n",
              "    <tr>\n",
              "      <th>3650</th>\n",
              "      <td>0.30</td>\n",
              "      <td>1</td>\n",
              "      <td>0</td>\n",
              "    </tr>\n",
              "  </tbody>\n",
              "</table>\n",
              "<p>3651 rows × 3 columns</p>\n",
              "</div>\n",
              "      <button class=\"colab-df-convert\" onclick=\"convertToInteractive('df-b9d38cac-acf6-465f-a2a0-f874fe631c83')\"\n",
              "              title=\"Convert this dataframe to an interactive table.\"\n",
              "              style=\"display:none;\">\n",
              "        \n",
              "  <svg xmlns=\"http://www.w3.org/2000/svg\" height=\"24px\"viewBox=\"0 0 24 24\"\n",
              "       width=\"24px\">\n",
              "    <path d=\"M0 0h24v24H0V0z\" fill=\"none\"/>\n",
              "    <path d=\"M18.56 5.44l.94 2.06.94-2.06 2.06-.94-2.06-.94-.94-2.06-.94 2.06-2.06.94zm-11 1L8.5 8.5l.94-2.06 2.06-.94-2.06-.94L8.5 2.5l-.94 2.06-2.06.94zm10 10l.94 2.06.94-2.06 2.06-.94-2.06-.94-.94-2.06-.94 2.06-2.06.94z\"/><path d=\"M17.41 7.96l-1.37-1.37c-.4-.4-.92-.59-1.43-.59-.52 0-1.04.2-1.43.59L10.3 9.45l-7.72 7.72c-.78.78-.78 2.05 0 2.83L4 21.41c.39.39.9.59 1.41.59.51 0 1.02-.2 1.41-.59l7.78-7.78 2.81-2.81c.8-.78.8-2.07 0-2.86zM5.41 20L4 18.59l7.72-7.72 1.47 1.35L5.41 20z\"/>\n",
              "  </svg>\n",
              "      </button>\n",
              "      \n",
              "  <style>\n",
              "    .colab-df-container {\n",
              "      display:flex;\n",
              "      flex-wrap:wrap;\n",
              "      gap: 12px;\n",
              "    }\n",
              "\n",
              "    .colab-df-convert {\n",
              "      background-color: #E8F0FE;\n",
              "      border: none;\n",
              "      border-radius: 50%;\n",
              "      cursor: pointer;\n",
              "      display: none;\n",
              "      fill: #1967D2;\n",
              "      height: 32px;\n",
              "      padding: 0 0 0 0;\n",
              "      width: 32px;\n",
              "    }\n",
              "\n",
              "    .colab-df-convert:hover {\n",
              "      background-color: #E2EBFA;\n",
              "      box-shadow: 0px 1px 2px rgba(60, 64, 67, 0.3), 0px 1px 3px 1px rgba(60, 64, 67, 0.15);\n",
              "      fill: #174EA6;\n",
              "    }\n",
              "\n",
              "    [theme=dark] .colab-df-convert {\n",
              "      background-color: #3B4455;\n",
              "      fill: #D2E3FC;\n",
              "    }\n",
              "\n",
              "    [theme=dark] .colab-df-convert:hover {\n",
              "      background-color: #434B5C;\n",
              "      box-shadow: 0px 1px 3px 1px rgba(0, 0, 0, 0.15);\n",
              "      filter: drop-shadow(0px 1px 2px rgba(0, 0, 0, 0.3));\n",
              "      fill: #FFFFFF;\n",
              "    }\n",
              "  </style>\n",
              "\n",
              "      <script>\n",
              "        const buttonEl =\n",
              "          document.querySelector('#df-b9d38cac-acf6-465f-a2a0-f874fe631c83 button.colab-df-convert');\n",
              "        buttonEl.style.display =\n",
              "          google.colab.kernel.accessAllowed ? 'block' : 'none';\n",
              "\n",
              "        async function convertToInteractive(key) {\n",
              "          const element = document.querySelector('#df-b9d38cac-acf6-465f-a2a0-f874fe631c83');\n",
              "          const dataTable =\n",
              "            await google.colab.kernel.invokeFunction('convertToInteractive',\n",
              "                                                     [key], {});\n",
              "          if (!dataTable) return;\n",
              "\n",
              "          const docLinkHtml = 'Like what you see? Visit the ' +\n",
              "            '<a target=\"_blank\" href=https://colab.research.google.com/notebooks/data_table.ipynb>data table notebook</a>'\n",
              "            + ' to learn more about interactive tables.';\n",
              "          element.innerHTML = '';\n",
              "          dataTable['output_type'] = 'display_data';\n",
              "          await google.colab.output.renderOutput(dataTable, element);\n",
              "          const docLink = document.createElement('div');\n",
              "          docLink.innerHTML = docLinkHtml;\n",
              "          element.appendChild(docLink);\n",
              "        }\n",
              "      </script>\n",
              "    </div>\n",
              "  </div>\n",
              "  "
            ]
          },
          "metadata": {},
          "execution_count": 28
        }
      ]
    },
    {
      "cell_type": "code",
      "source": [
        "print(df1.groupby([\"usa\"]).mean())\n"
      ],
      "metadata": {
        "colab": {
          "base_uri": "https://localhost:8080/"
        },
        "id": "8z1ZDLo_W-lH",
        "outputId": "d27542ae-9874-4fde-cdda-b59a72bb8967"
      },
      "id": "8z1ZDLo_W-lH",
      "execution_count": null,
      "outputs": [
        {
          "output_type": "stream",
          "name": "stdout",
          "text": [
            "         wait      good\n",
            "usa                    \n",
            "0    1.807108  0.585202\n",
            "1    2.228887  0.584632\n"
          ]
        }
      ]
    },
    {
      "cell_type": "code",
      "source": [
        "print(df1.groupby([\"usa\"]))"
      ],
      "metadata": {
        "id": "od2vsZgycqmk",
        "colab": {
          "base_uri": "https://localhost:8080/"
        },
        "outputId": "b7d63952-68b4-4596-f79e-c95318fa4d6d"
      },
      "id": "od2vsZgycqmk",
      "execution_count": null,
      "outputs": [
        {
          "output_type": "stream",
          "name": "stdout",
          "text": [
            "<pandas.core.groupby.generic.DataFrameGroupBy object at 0x7f588a066580>\n"
          ]
        }
      ]
    },
    {
      "cell_type": "markdown",
      "source": [
        "For the passengers flying to another country the average waiting time is between arrival and flying is 1.80 hours\n",
        "\n",
        "For the passengers flying to Usa, the average waiting time is 2.22 hours "
      ],
      "metadata": {
        "id": "UYVVKiUEX1F9"
      },
      "id": "UYVVKiUEX1F9"
    },
    {
      "cell_type": "code",
      "source": [
        "print(df1.groupby([\"usa\"]).sum())"
      ],
      "metadata": {
        "colab": {
          "base_uri": "https://localhost:8080/"
        },
        "id": "kkhTQKbvXZMl",
        "outputId": "b5e73fb1-badb-4a02-e2fa-9949594109eb"
      },
      "id": "kkhTQKbvXZMl",
      "execution_count": null,
      "outputs": [
        {
          "output_type": "stream",
          "name": "stdout",
          "text": [
            "        wait  good\n",
            "usa               \n",
            "0    1611.94   522\n",
            "1    6149.50  1613\n"
          ]
        }
      ]
    },
    {
      "cell_type": "code",
      "source": [
        "df1.groupby([\"usa\"])"
      ],
      "metadata": {
        "colab": {
          "base_uri": "https://localhost:8080/"
        },
        "id": "g8S6aqYifBZ3",
        "outputId": "758dd065-11ab-4146-e69d-f17f74525992"
      },
      "id": "g8S6aqYifBZ3",
      "execution_count": null,
      "outputs": [
        {
          "output_type": "execute_result",
          "data": {
            "text/plain": [
              "<pandas.core.groupby.generic.DataFrameGroupBy object at 0x7f588a066310>"
            ]
          },
          "metadata": {},
          "execution_count": 32
        }
      ]
    },
    {
      "cell_type": "code",
      "source": [
        "df1"
      ],
      "metadata": {
        "colab": {
          "base_uri": "https://localhost:8080/",
          "height": 424
        },
        "id": "4yqmAd6If8Yj",
        "outputId": "c08cf42f-bf3c-426b-b5e5-82825d4cf6e3"
      },
      "id": "4yqmAd6If8Yj",
      "execution_count": null,
      "outputs": [
        {
          "output_type": "execute_result",
          "data": {
            "text/plain": [
              "      wait  usa  good\n",
              "0     4.88    1     0\n",
              "1     0.05    1     1\n",
              "2     0.55    1     0\n",
              "3     0.80    1     1\n",
              "4     0.30    1     1\n",
              "...    ...  ...   ...\n",
              "3646  4.81    1     0\n",
              "3647  0.80    1     1\n",
              "3648  4.00    1     0\n",
              "3649  4.00    1     0\n",
              "3650  0.30    1     0\n",
              "\n",
              "[3651 rows x 3 columns]"
            ],
            "text/html": [
              "\n",
              "  <div id=\"df-1f7b906d-8c9e-49bd-b0a8-bdff9f0c9397\">\n",
              "    <div class=\"colab-df-container\">\n",
              "      <div>\n",
              "<style scoped>\n",
              "    .dataframe tbody tr th:only-of-type {\n",
              "        vertical-align: middle;\n",
              "    }\n",
              "\n",
              "    .dataframe tbody tr th {\n",
              "        vertical-align: top;\n",
              "    }\n",
              "\n",
              "    .dataframe thead th {\n",
              "        text-align: right;\n",
              "    }\n",
              "</style>\n",
              "<table border=\"1\" class=\"dataframe\">\n",
              "  <thead>\n",
              "    <tr style=\"text-align: right;\">\n",
              "      <th></th>\n",
              "      <th>wait</th>\n",
              "      <th>usa</th>\n",
              "      <th>good</th>\n",
              "    </tr>\n",
              "  </thead>\n",
              "  <tbody>\n",
              "    <tr>\n",
              "      <th>0</th>\n",
              "      <td>4.88</td>\n",
              "      <td>1</td>\n",
              "      <td>0</td>\n",
              "    </tr>\n",
              "    <tr>\n",
              "      <th>1</th>\n",
              "      <td>0.05</td>\n",
              "      <td>1</td>\n",
              "      <td>1</td>\n",
              "    </tr>\n",
              "    <tr>\n",
              "      <th>2</th>\n",
              "      <td>0.55</td>\n",
              "      <td>1</td>\n",
              "      <td>0</td>\n",
              "    </tr>\n",
              "    <tr>\n",
              "      <th>3</th>\n",
              "      <td>0.80</td>\n",
              "      <td>1</td>\n",
              "      <td>1</td>\n",
              "    </tr>\n",
              "    <tr>\n",
              "      <th>4</th>\n",
              "      <td>0.30</td>\n",
              "      <td>1</td>\n",
              "      <td>1</td>\n",
              "    </tr>\n",
              "    <tr>\n",
              "      <th>...</th>\n",
              "      <td>...</td>\n",
              "      <td>...</td>\n",
              "      <td>...</td>\n",
              "    </tr>\n",
              "    <tr>\n",
              "      <th>3646</th>\n",
              "      <td>4.81</td>\n",
              "      <td>1</td>\n",
              "      <td>0</td>\n",
              "    </tr>\n",
              "    <tr>\n",
              "      <th>3647</th>\n",
              "      <td>0.80</td>\n",
              "      <td>1</td>\n",
              "      <td>1</td>\n",
              "    </tr>\n",
              "    <tr>\n",
              "      <th>3648</th>\n",
              "      <td>4.00</td>\n",
              "      <td>1</td>\n",
              "      <td>0</td>\n",
              "    </tr>\n",
              "    <tr>\n",
              "      <th>3649</th>\n",
              "      <td>4.00</td>\n",
              "      <td>1</td>\n",
              "      <td>0</td>\n",
              "    </tr>\n",
              "    <tr>\n",
              "      <th>3650</th>\n",
              "      <td>0.30</td>\n",
              "      <td>1</td>\n",
              "      <td>0</td>\n",
              "    </tr>\n",
              "  </tbody>\n",
              "</table>\n",
              "<p>3651 rows × 3 columns</p>\n",
              "</div>\n",
              "      <button class=\"colab-df-convert\" onclick=\"convertToInteractive('df-1f7b906d-8c9e-49bd-b0a8-bdff9f0c9397')\"\n",
              "              title=\"Convert this dataframe to an interactive table.\"\n",
              "              style=\"display:none;\">\n",
              "        \n",
              "  <svg xmlns=\"http://www.w3.org/2000/svg\" height=\"24px\"viewBox=\"0 0 24 24\"\n",
              "       width=\"24px\">\n",
              "    <path d=\"M0 0h24v24H0V0z\" fill=\"none\"/>\n",
              "    <path d=\"M18.56 5.44l.94 2.06.94-2.06 2.06-.94-2.06-.94-.94-2.06-.94 2.06-2.06.94zm-11 1L8.5 8.5l.94-2.06 2.06-.94-2.06-.94L8.5 2.5l-.94 2.06-2.06.94zm10 10l.94 2.06.94-2.06 2.06-.94-2.06-.94-.94-2.06-.94 2.06-2.06.94z\"/><path d=\"M17.41 7.96l-1.37-1.37c-.4-.4-.92-.59-1.43-.59-.52 0-1.04.2-1.43.59L10.3 9.45l-7.72 7.72c-.78.78-.78 2.05 0 2.83L4 21.41c.39.39.9.59 1.41.59.51 0 1.02-.2 1.41-.59l7.78-7.78 2.81-2.81c.8-.78.8-2.07 0-2.86zM5.41 20L4 18.59l7.72-7.72 1.47 1.35L5.41 20z\"/>\n",
              "  </svg>\n",
              "      </button>\n",
              "      \n",
              "  <style>\n",
              "    .colab-df-container {\n",
              "      display:flex;\n",
              "      flex-wrap:wrap;\n",
              "      gap: 12px;\n",
              "    }\n",
              "\n",
              "    .colab-df-convert {\n",
              "      background-color: #E8F0FE;\n",
              "      border: none;\n",
              "      border-radius: 50%;\n",
              "      cursor: pointer;\n",
              "      display: none;\n",
              "      fill: #1967D2;\n",
              "      height: 32px;\n",
              "      padding: 0 0 0 0;\n",
              "      width: 32px;\n",
              "    }\n",
              "\n",
              "    .colab-df-convert:hover {\n",
              "      background-color: #E2EBFA;\n",
              "      box-shadow: 0px 1px 2px rgba(60, 64, 67, 0.3), 0px 1px 3px 1px rgba(60, 64, 67, 0.15);\n",
              "      fill: #174EA6;\n",
              "    }\n",
              "\n",
              "    [theme=dark] .colab-df-convert {\n",
              "      background-color: #3B4455;\n",
              "      fill: #D2E3FC;\n",
              "    }\n",
              "\n",
              "    [theme=dark] .colab-df-convert:hover {\n",
              "      background-color: #434B5C;\n",
              "      box-shadow: 0px 1px 3px 1px rgba(0, 0, 0, 0.15);\n",
              "      filter: drop-shadow(0px 1px 2px rgba(0, 0, 0, 0.3));\n",
              "      fill: #FFFFFF;\n",
              "    }\n",
              "  </style>\n",
              "\n",
              "      <script>\n",
              "        const buttonEl =\n",
              "          document.querySelector('#df-1f7b906d-8c9e-49bd-b0a8-bdff9f0c9397 button.colab-df-convert');\n",
              "        buttonEl.style.display =\n",
              "          google.colab.kernel.accessAllowed ? 'block' : 'none';\n",
              "\n",
              "        async function convertToInteractive(key) {\n",
              "          const element = document.querySelector('#df-1f7b906d-8c9e-49bd-b0a8-bdff9f0c9397');\n",
              "          const dataTable =\n",
              "            await google.colab.kernel.invokeFunction('convertToInteractive',\n",
              "                                                     [key], {});\n",
              "          if (!dataTable) return;\n",
              "\n",
              "          const docLinkHtml = 'Like what you see? Visit the ' +\n",
              "            '<a target=\"_blank\" href=https://colab.research.google.com/notebooks/data_table.ipynb>data table notebook</a>'\n",
              "            + ' to learn more about interactive tables.';\n",
              "          element.innerHTML = '';\n",
              "          dataTable['output_type'] = 'display_data';\n",
              "          await google.colab.output.renderOutput(dataTable, element);\n",
              "          const docLink = document.createElement('div');\n",
              "          docLink.innerHTML = docLinkHtml;\n",
              "          element.appendChild(docLink);\n",
              "        }\n",
              "      </script>\n",
              "    </div>\n",
              "  </div>\n",
              "  "
            ]
          },
          "metadata": {},
          "execution_count": 33
        }
      ]
    },
    {
      "cell_type": "code",
      "source": [
        "df2=df1.loc[df1['good'] == 1]\n",
        "df2"
      ],
      "metadata": {
        "colab": {
          "base_uri": "https://localhost:8080/",
          "height": 424
        },
        "id": "HSC17iGbgXVD",
        "outputId": "b093f7c4-bb71-4959-b58e-032726186b6d"
      },
      "id": "HSC17iGbgXVD",
      "execution_count": null,
      "outputs": [
        {
          "output_type": "execute_result",
          "data": {
            "text/plain": [
              "      wait  usa  good\n",
              "1     0.05    1     1\n",
              "3     0.80    1     1\n",
              "4     0.30    1     1\n",
              "6     4.81    1     1\n",
              "7     4.16    1     1\n",
              "...    ...  ...   ...\n",
              "3636  4.98    1     1\n",
              "3638  0.13    1     1\n",
              "3641  4.98    1     1\n",
              "3643  4.98    1     1\n",
              "3647  0.80    1     1\n",
              "\n",
              "[2135 rows x 3 columns]"
            ],
            "text/html": [
              "\n",
              "  <div id=\"df-084761ec-e0c6-4a30-839d-6f2dc114158b\">\n",
              "    <div class=\"colab-df-container\">\n",
              "      <div>\n",
              "<style scoped>\n",
              "    .dataframe tbody tr th:only-of-type {\n",
              "        vertical-align: middle;\n",
              "    }\n",
              "\n",
              "    .dataframe tbody tr th {\n",
              "        vertical-align: top;\n",
              "    }\n",
              "\n",
              "    .dataframe thead th {\n",
              "        text-align: right;\n",
              "    }\n",
              "</style>\n",
              "<table border=\"1\" class=\"dataframe\">\n",
              "  <thead>\n",
              "    <tr style=\"text-align: right;\">\n",
              "      <th></th>\n",
              "      <th>wait</th>\n",
              "      <th>usa</th>\n",
              "      <th>good</th>\n",
              "    </tr>\n",
              "  </thead>\n",
              "  <tbody>\n",
              "    <tr>\n",
              "      <th>1</th>\n",
              "      <td>0.05</td>\n",
              "      <td>1</td>\n",
              "      <td>1</td>\n",
              "    </tr>\n",
              "    <tr>\n",
              "      <th>3</th>\n",
              "      <td>0.80</td>\n",
              "      <td>1</td>\n",
              "      <td>1</td>\n",
              "    </tr>\n",
              "    <tr>\n",
              "      <th>4</th>\n",
              "      <td>0.30</td>\n",
              "      <td>1</td>\n",
              "      <td>1</td>\n",
              "    </tr>\n",
              "    <tr>\n",
              "      <th>6</th>\n",
              "      <td>4.81</td>\n",
              "      <td>1</td>\n",
              "      <td>1</td>\n",
              "    </tr>\n",
              "    <tr>\n",
              "      <th>7</th>\n",
              "      <td>4.16</td>\n",
              "      <td>1</td>\n",
              "      <td>1</td>\n",
              "    </tr>\n",
              "    <tr>\n",
              "      <th>...</th>\n",
              "      <td>...</td>\n",
              "      <td>...</td>\n",
              "      <td>...</td>\n",
              "    </tr>\n",
              "    <tr>\n",
              "      <th>3636</th>\n",
              "      <td>4.98</td>\n",
              "      <td>1</td>\n",
              "      <td>1</td>\n",
              "    </tr>\n",
              "    <tr>\n",
              "      <th>3638</th>\n",
              "      <td>0.13</td>\n",
              "      <td>1</td>\n",
              "      <td>1</td>\n",
              "    </tr>\n",
              "    <tr>\n",
              "      <th>3641</th>\n",
              "      <td>4.98</td>\n",
              "      <td>1</td>\n",
              "      <td>1</td>\n",
              "    </tr>\n",
              "    <tr>\n",
              "      <th>3643</th>\n",
              "      <td>4.98</td>\n",
              "      <td>1</td>\n",
              "      <td>1</td>\n",
              "    </tr>\n",
              "    <tr>\n",
              "      <th>3647</th>\n",
              "      <td>0.80</td>\n",
              "      <td>1</td>\n",
              "      <td>1</td>\n",
              "    </tr>\n",
              "  </tbody>\n",
              "</table>\n",
              "<p>2135 rows × 3 columns</p>\n",
              "</div>\n",
              "      <button class=\"colab-df-convert\" onclick=\"convertToInteractive('df-084761ec-e0c6-4a30-839d-6f2dc114158b')\"\n",
              "              title=\"Convert this dataframe to an interactive table.\"\n",
              "              style=\"display:none;\">\n",
              "        \n",
              "  <svg xmlns=\"http://www.w3.org/2000/svg\" height=\"24px\"viewBox=\"0 0 24 24\"\n",
              "       width=\"24px\">\n",
              "    <path d=\"M0 0h24v24H0V0z\" fill=\"none\"/>\n",
              "    <path d=\"M18.56 5.44l.94 2.06.94-2.06 2.06-.94-2.06-.94-.94-2.06-.94 2.06-2.06.94zm-11 1L8.5 8.5l.94-2.06 2.06-.94-2.06-.94L8.5 2.5l-.94 2.06-2.06.94zm10 10l.94 2.06.94-2.06 2.06-.94-2.06-.94-.94-2.06-.94 2.06-2.06.94z\"/><path d=\"M17.41 7.96l-1.37-1.37c-.4-.4-.92-.59-1.43-.59-.52 0-1.04.2-1.43.59L10.3 9.45l-7.72 7.72c-.78.78-.78 2.05 0 2.83L4 21.41c.39.39.9.59 1.41.59.51 0 1.02-.2 1.41-.59l7.78-7.78 2.81-2.81c.8-.78.8-2.07 0-2.86zM5.41 20L4 18.59l7.72-7.72 1.47 1.35L5.41 20z\"/>\n",
              "  </svg>\n",
              "      </button>\n",
              "      \n",
              "  <style>\n",
              "    .colab-df-container {\n",
              "      display:flex;\n",
              "      flex-wrap:wrap;\n",
              "      gap: 12px;\n",
              "    }\n",
              "\n",
              "    .colab-df-convert {\n",
              "      background-color: #E8F0FE;\n",
              "      border: none;\n",
              "      border-radius: 50%;\n",
              "      cursor: pointer;\n",
              "      display: none;\n",
              "      fill: #1967D2;\n",
              "      height: 32px;\n",
              "      padding: 0 0 0 0;\n",
              "      width: 32px;\n",
              "    }\n",
              "\n",
              "    .colab-df-convert:hover {\n",
              "      background-color: #E2EBFA;\n",
              "      box-shadow: 0px 1px 2px rgba(60, 64, 67, 0.3), 0px 1px 3px 1px rgba(60, 64, 67, 0.15);\n",
              "      fill: #174EA6;\n",
              "    }\n",
              "\n",
              "    [theme=dark] .colab-df-convert {\n",
              "      background-color: #3B4455;\n",
              "      fill: #D2E3FC;\n",
              "    }\n",
              "\n",
              "    [theme=dark] .colab-df-convert:hover {\n",
              "      background-color: #434B5C;\n",
              "      box-shadow: 0px 1px 3px 1px rgba(0, 0, 0, 0.15);\n",
              "      filter: drop-shadow(0px 1px 2px rgba(0, 0, 0, 0.3));\n",
              "      fill: #FFFFFF;\n",
              "    }\n",
              "  </style>\n",
              "\n",
              "      <script>\n",
              "        const buttonEl =\n",
              "          document.querySelector('#df-084761ec-e0c6-4a30-839d-6f2dc114158b button.colab-df-convert');\n",
              "        buttonEl.style.display =\n",
              "          google.colab.kernel.accessAllowed ? 'block' : 'none';\n",
              "\n",
              "        async function convertToInteractive(key) {\n",
              "          const element = document.querySelector('#df-084761ec-e0c6-4a30-839d-6f2dc114158b');\n",
              "          const dataTable =\n",
              "            await google.colab.kernel.invokeFunction('convertToInteractive',\n",
              "                                                     [key], {});\n",
              "          if (!dataTable) return;\n",
              "\n",
              "          const docLinkHtml = 'Like what you see? Visit the ' +\n",
              "            '<a target=\"_blank\" href=https://colab.research.google.com/notebooks/data_table.ipynb>data table notebook</a>'\n",
              "            + ' to learn more about interactive tables.';\n",
              "          element.innerHTML = '';\n",
              "          dataTable['output_type'] = 'display_data';\n",
              "          await google.colab.output.renderOutput(dataTable, element);\n",
              "          const docLink = document.createElement('div');\n",
              "          docLink.innerHTML = docLinkHtml;\n",
              "          element.appendChild(docLink);\n",
              "        }\n",
              "      </script>\n",
              "    </div>\n",
              "  </div>\n",
              "  "
            ]
          },
          "metadata": {},
          "execution_count": 34
        }
      ]
    },
    {
      "cell_type": "code",
      "source": [
        "sb.scatterplot(x=\"usa\", y=\"wait\",hue=\"good\",\n",
        "               data=df2)"
      ],
      "metadata": {
        "colab": {
          "base_uri": "https://localhost:8080/",
          "height": 302
        },
        "id": "7GuFUQ8vRr7w",
        "outputId": "10b93878-fa40-410c-854e-944e1141a84b"
      },
      "id": "7GuFUQ8vRr7w",
      "execution_count": null,
      "outputs": [
        {
          "output_type": "execute_result",
          "data": {
            "text/plain": [
              "<matplotlib.axes._subplots.AxesSubplot at 0x7f588a0118b0>"
            ]
          },
          "metadata": {},
          "execution_count": 35
        },
        {
          "output_type": "display_data",
          "data": {
            "text/plain": [
              "<Figure size 432x288 with 1 Axes>"
            ],
            "image/png": "[encoded data removed]"
          },
          "metadata": {
            "needs_background": "light"
          }
        }
      ]
    },
    {
      "cell_type": "markdown",
      "source": [
        "There are 2759 rows with usa=1"
      ],
      "metadata": {
        "id": "zhObZr5vhFKV"
      },
      "id": "zhObZr5vhFKV"
    },
    {
      "cell_type": "code",
      "source": [],
      "metadata": {
        "id": "eLUgbsLJR52m"
      },
      "id": "eLUgbsLJR52m",
      "execution_count": null,
      "outputs": []
    },
    {
      "cell_type": "code",
      "source": [],
      "metadata": {
        "id": "TFzAbALSgyMZ"
      },
      "id": "TFzAbALSgyMZ",
      "execution_count": null,
      "outputs": []
    },
    {
      "cell_type": "code",
      "source": [
        "sns.barplot(x=\"wait\", y=\"usa\", data=df, palette=\"husl\")\n",
        "#sns.distplot(df['location_score_1'])"
      ],
      "metadata": {
        "colab": {
          "base_uri": "https://localhost:8080/",
          "height": 302
        },
        "id": "lNzspIQJWApH",
        "outputId": "cb620f63-10f3-4de6-a3fc-e8c0e6840d75"
      },
      "id": "lNzspIQJWApH",
      "execution_count": null,
      "outputs": [
        {
          "output_type": "execute_result",
          "data": {
            "text/plain": [
              "<matplotlib.axes._subplots.AxesSubplot at 0x7f58886c6ee0>"
            ]
          },
          "metadata": {},
          "execution_count": 36
        },
        {
          "output_type": "display_data",
          "data": {
            "text/plain": [
              "<Figure size 432x288 with 1 Axes>"
            ],
            "image/png": "[encoded data removed]"
          },
          "metadata": {
            "needs_background": "light"
          }
        }
      ]
    },
    {
      "cell_type": "markdown",
      "source": [
        "Summary: \n",
        "\n",
        "*   The data available has 2759 rows of usa, 892 rows of other countries. \n",
        "*   The wait time compared with other desitnations is less (total wait time for other countries is 1611 hours and total wait time for usa is 6149)\n",
        "\n",
        "\n",
        "*    For the passengers flying to another country the average waiting time is between arrival and flying is 1.80 hours\n",
        "\n",
        "     For the passengers flying to Usa, the average waiting time is 2.22 hours\n",
        "\n",
        "*  We are consered with people whose destination of travel is Usa \n",
        "\n",
        "\n",
        "\n",
        "\n"
      ],
      "metadata": {
        "id": "_88exxAOYmQh"
      },
      "id": "_88exxAOYmQh"
    },
    {
      "cell_type": "markdown",
      "id": "f0586e8b",
      "metadata": {
        "id": "f0586e8b"
      },
      "source": [
        "Load the data in InkjetPrinters.csv (for example, with readr in R or pandas in Python). We are going to use linear regression to predict price."
      ]
    },
    {
      "cell_type": "code",
      "execution_count": null,
      "id": "b7933d47",
      "metadata": {
        "colab": {
          "base_uri": "https://localhost:8080/",
          "height": 206
        },
        "id": "b7933d47",
        "outputId": "3a30f954-72ef-4d05-d40d-938ed8ab7b1d"
      },
      "outputs": [
        {
          "output_type": "execute_result",
          "data": {
            "text/plain": [
              "   good  dirty  wait  lastyear  usa\n",
              "0     0      0  4.88         2    1\n",
              "1     1      0  0.05         1    1\n",
              "2     0      0  0.55         1    1\n",
              "3     1      0  0.80         1    1\n",
              "4     1      0  0.30         4    1"
            ],
            "text/html": [
              "\n",
              "  <div id=\"df-f97fd70b-a9f9-40d2-b91d-a37aaf0f6f77\">\n",
              "    <div class=\"colab-df-container\">\n",
              "      <div>\n",
              "<style scoped>\n",
              "    .dataframe tbody tr th:only-of-type {\n",
              "        vertical-align: middle;\n",
              "    }\n",
              "\n",
              "    .dataframe tbody tr th {\n",
              "        vertical-align: top;\n",
              "    }\n",
              "\n",
              "    .dataframe thead th {\n",
              "        text-align: right;\n",
              "    }\n",
              "</style>\n",
              "<table border=\"1\" class=\"dataframe\">\n",
              "  <thead>\n",
              "    <tr style=\"text-align: right;\">\n",
              "      <th></th>\n",
              "      <th>good</th>\n",
              "      <th>dirty</th>\n",
              "      <th>wait</th>\n",
              "      <th>lastyear</th>\n",
              "      <th>usa</th>\n",
              "    </tr>\n",
              "  </thead>\n",
              "  <tbody>\n",
              "    <tr>\n",
              "      <th>0</th>\n",
              "      <td>0</td>\n",
              "      <td>0</td>\n",
              "      <td>4.88</td>\n",
              "      <td>2</td>\n",
              "      <td>1</td>\n",
              "    </tr>\n",
              "    <tr>\n",
              "      <th>1</th>\n",
              "      <td>1</td>\n",
              "      <td>0</td>\n",
              "      <td>0.05</td>\n",
              "      <td>1</td>\n",
              "      <td>1</td>\n",
              "    </tr>\n",
              "    <tr>\n",
              "      <th>2</th>\n",
              "      <td>0</td>\n",
              "      <td>0</td>\n",
              "      <td>0.55</td>\n",
              "      <td>1</td>\n",
              "      <td>1</td>\n",
              "    </tr>\n",
              "    <tr>\n",
              "      <th>3</th>\n",
              "      <td>1</td>\n",
              "      <td>0</td>\n",
              "      <td>0.80</td>\n",
              "      <td>1</td>\n",
              "      <td>1</td>\n",
              "    </tr>\n",
              "    <tr>\n",
              "      <th>4</th>\n",
              "      <td>1</td>\n",
              "      <td>0</td>\n",
              "      <td>0.30</td>\n",
              "      <td>4</td>\n",
              "      <td>1</td>\n",
              "    </tr>\n",
              "  </tbody>\n",
              "</table>\n",
              "</div>\n",
              "      <button class=\"colab-df-convert\" onclick=\"convertToInteractive('df-f97fd70b-a9f9-40d2-b91d-a37aaf0f6f77')\"\n",
              "              title=\"Convert this dataframe to an interactive table.\"\n",
              "              style=\"display:none;\">\n",
              "        \n",
              "  <svg xmlns=\"http://www.w3.org/2000/svg\" height=\"24px\"viewBox=\"0 0 24 24\"\n",
              "       width=\"24px\">\n",
              "    <path d=\"M0 0h24v24H0V0z\" fill=\"none\"/>\n",
              "    <path d=\"M18.56 5.44l.94 2.06.94-2.06 2.06-.94-2.06-.94-.94-2.06-.94 2.06-2.06.94zm-11 1L8.5 8.5l.94-2.06 2.06-.94-2.06-.94L8.5 2.5l-.94 2.06-2.06.94zm10 10l.94 2.06.94-2.06 2.06-.94-2.06-.94-.94-2.06-.94 2.06-2.06.94z\"/><path d=\"M17.41 7.96l-1.37-1.37c-.4-.4-.92-.59-1.43-.59-.52 0-1.04.2-1.43.59L10.3 9.45l-7.72 7.72c-.78.78-.78 2.05 0 2.83L4 21.41c.39.39.9.59 1.41.59.51 0 1.02-.2 1.41-.59l7.78-7.78 2.81-2.81c.8-.78.8-2.07 0-2.86zM5.41 20L4 18.59l7.72-7.72 1.47 1.35L5.41 20z\"/>\n",
              "  </svg>\n",
              "      </button>\n",
              "      \n",
              "  <style>\n",
              "    .colab-df-container {\n",
              "      display:flex;\n",
              "      flex-wrap:wrap;\n",
              "      gap: 12px;\n",
              "    }\n",
              "\n",
              "    .colab-df-convert {\n",
              "      background-color: #E8F0FE;\n",
              "      border: none;\n",
              "      border-radius: 50%;\n",
              "      cursor: pointer;\n",
              "      display: none;\n",
              "      fill: #1967D2;\n",
              "      height: 32px;\n",
              "      padding: 0 0 0 0;\n",
              "      width: 32px;\n",
              "    }\n",
              "\n",
              "    .colab-df-convert:hover {\n",
              "      background-color: #E2EBFA;\n",
              "      box-shadow: 0px 1px 2px rgba(60, 64, 67, 0.3), 0px 1px 3px 1px rgba(60, 64, 67, 0.15);\n",
              "      fill: #174EA6;\n",
              "    }\n",
              "\n",
              "    [theme=dark] .colab-df-convert {\n",
              "      background-color: #3B4455;\n",
              "      fill: #D2E3FC;\n",
              "    }\n",
              "\n",
              "    [theme=dark] .colab-df-convert:hover {\n",
              "      background-color: #434B5C;\n",
              "      box-shadow: 0px 1px 3px 1px rgba(0, 0, 0, 0.15);\n",
              "      filter: drop-shadow(0px 1px 2px rgba(0, 0, 0, 0.3));\n",
              "      fill: #FFFFFF;\n",
              "    }\n",
              "  </style>\n",
              "\n",
              "      <script>\n",
              "        const buttonEl =\n",
              "          document.querySelector('#df-f97fd70b-a9f9-40d2-b91d-a37aaf0f6f77 button.colab-df-convert');\n",
              "        buttonEl.style.display =\n",
              "          google.colab.kernel.accessAllowed ? 'block' : 'none';\n",
              "\n",
              "        async function convertToInteractive(key) {\n",
              "          const element = document.querySelector('#df-f97fd70b-a9f9-40d2-b91d-a37aaf0f6f77');\n",
              "          const dataTable =\n",
              "            await google.colab.kernel.invokeFunction('convertToInteractive',\n",
              "                                                     [key], {});\n",
              "          if (!dataTable) return;\n",
              "\n",
              "          const docLinkHtml = 'Like what you see? Visit the ' +\n",
              "            '<a target=\"_blank\" href=https://colab.research.google.com/notebooks/data_table.ipynb>data table notebook</a>'\n",
              "            + ' to learn more about interactive tables.';\n",
              "          element.innerHTML = '';\n",
              "          dataTable['output_type'] = 'display_data';\n",
              "          await google.colab.output.renderOutput(dataTable, element);\n",
              "          const docLink = document.createElement('div');\n",
              "          docLink.innerHTML = docLinkHtml;\n",
              "          element.appendChild(docLink);\n",
              "        }\n",
              "      </script>\n",
              "    </div>\n",
              "  </div>\n",
              "  "
            ]
          },
          "metadata": {},
          "execution_count": 37
        }
      ],
      "source": [
        "#ij = pd.read_csv(\"InkjetPrinters.csv\")\n",
        "df.head()\n"
      ]
    },
    {
      "cell_type": "markdown",
      "id": "f5de2191",
      "metadata": {
        "id": "f5de2191"
      },
      "source": [
        "Get a scatterplot matrix of all the numeric variables (not the first column)."
      ]
    },
    {
      "cell_type": "markdown",
      "id": "3ae994a8",
      "metadata": {
        "id": "3ae994a8"
      },
      "source": [
        "🤔 Which variables appear to be are most correlated with Price?\n",
        "\n",
        "🤔 Are those relationships approximately straight lines?\n"
      ]
    },
    {
      "cell_type": "markdown",
      "id": "18728724",
      "metadata": {
        "id": "18728724"
      },
      "source": [
        "Get a Pearson correlation matrix."
      ]
    },
    {
      "cell_type": "code",
      "execution_count": null,
      "id": "9b598d20",
      "metadata": {
        "id": "9b598d20",
        "colab": {
          "base_uri": "https://localhost:8080/",
          "height": 206
        },
        "outputId": "46c671cd-af65-4c24-c9f9-9cdb009623c6"
      },
      "outputs": [
        {
          "output_type": "execute_result",
          "data": {
            "text/plain": [
              "          good  dirty  wait  lastyear   usa\n",
              "good      1.00  -0.13 -0.09     -0.02 -0.00\n",
              "dirty    -0.13   1.00  0.00      0.08  0.05\n",
              "wait     -0.09   0.00  1.00      0.06  0.10\n",
              "lastyear -0.02   0.08  0.06      1.00  0.08\n",
              "usa      -0.00   0.05  0.10      0.08  1.00"
            ],
            "text/html": [
              "\n",
              "  <div id=\"df-209c0650-b32f-475d-9a4b-a32aa56d12d0\">\n",
              "    <div class=\"colab-df-container\">\n",
              "      <div>\n",
              "<style scoped>\n",
              "    .dataframe tbody tr th:only-of-type {\n",
              "        vertical-align: middle;\n",
              "    }\n",
              "\n",
              "    .dataframe tbody tr th {\n",
              "        vertical-align: top;\n",
              "    }\n",
              "\n",
              "    .dataframe thead th {\n",
              "        text-align: right;\n",
              "    }\n",
              "</style>\n",
              "<table border=\"1\" class=\"dataframe\">\n",
              "  <thead>\n",
              "    <tr style=\"text-align: right;\">\n",
              "      <th></th>\n",
              "      <th>good</th>\n",
              "      <th>dirty</th>\n",
              "      <th>wait</th>\n",
              "      <th>lastyear</th>\n",
              "      <th>usa</th>\n",
              "    </tr>\n",
              "  </thead>\n",
              "  <tbody>\n",
              "    <tr>\n",
              "      <th>good</th>\n",
              "      <td>1.00</td>\n",
              "      <td>-0.13</td>\n",
              "      <td>-0.09</td>\n",
              "      <td>-0.02</td>\n",
              "      <td>-0.00</td>\n",
              "    </tr>\n",
              "    <tr>\n",
              "      <th>dirty</th>\n",
              "      <td>-0.13</td>\n",
              "      <td>1.00</td>\n",
              "      <td>0.00</td>\n",
              "      <td>0.08</td>\n",
              "      <td>0.05</td>\n",
              "    </tr>\n",
              "    <tr>\n",
              "      <th>wait</th>\n",
              "      <td>-0.09</td>\n",
              "      <td>0.00</td>\n",
              "      <td>1.00</td>\n",
              "      <td>0.06</td>\n",
              "      <td>0.10</td>\n",
              "    </tr>\n",
              "    <tr>\n",
              "      <th>lastyear</th>\n",
              "      <td>-0.02</td>\n",
              "      <td>0.08</td>\n",
              "      <td>0.06</td>\n",
              "      <td>1.00</td>\n",
              "      <td>0.08</td>\n",
              "    </tr>\n",
              "    <tr>\n",
              "      <th>usa</th>\n",
              "      <td>-0.00</td>\n",
              "      <td>0.05</td>\n",
              "      <td>0.10</td>\n",
              "      <td>0.08</td>\n",
              "      <td>1.00</td>\n",
              "    </tr>\n",
              "  </tbody>\n",
              "</table>\n",
              "</div>\n",
              "      <button class=\"colab-df-convert\" onclick=\"convertToInteractive('df-209c0650-b32f-475d-9a4b-a32aa56d12d0')\"\n",
              "              title=\"Convert this dataframe to an interactive table.\"\n",
              "              style=\"display:none;\">\n",
              "        \n",
              "  <svg xmlns=\"http://www.w3.org/2000/svg\" height=\"24px\"viewBox=\"0 0 24 24\"\n",
              "       width=\"24px\">\n",
              "    <path d=\"M0 0h24v24H0V0z\" fill=\"none\"/>\n",
              "    <path d=\"M18.56 5.44l.94 2.06.94-2.06 2.06-.94-2.06-.94-.94-2.06-.94 2.06-2.06.94zm-11 1L8.5 8.5l.94-2.06 2.06-.94-2.06-.94L8.5 2.5l-.94 2.06-2.06.94zm10 10l.94 2.06.94-2.06 2.06-.94-2.06-.94-.94-2.06-.94 2.06-2.06.94z\"/><path d=\"M17.41 7.96l-1.37-1.37c-.4-.4-.92-.59-1.43-.59-.52 0-1.04.2-1.43.59L10.3 9.45l-7.72 7.72c-.78.78-.78 2.05 0 2.83L4 21.41c.39.39.9.59 1.41.59.51 0 1.02-.2 1.41-.59l7.78-7.78 2.81-2.81c.8-.78.8-2.07 0-2.86zM5.41 20L4 18.59l7.72-7.72 1.47 1.35L5.41 20z\"/>\n",
              "  </svg>\n",
              "      </button>\n",
              "      \n",
              "  <style>\n",
              "    .colab-df-container {\n",
              "      display:flex;\n",
              "      flex-wrap:wrap;\n",
              "      gap: 12px;\n",
              "    }\n",
              "\n",
              "    .colab-df-convert {\n",
              "      background-color: #E8F0FE;\n",
              "      border: none;\n",
              "      border-radius: 50%;\n",
              "      cursor: pointer;\n",
              "      display: none;\n",
              "      fill: #1967D2;\n",
              "      height: 32px;\n",
              "      padding: 0 0 0 0;\n",
              "      width: 32px;\n",
              "    }\n",
              "\n",
              "    .colab-df-convert:hover {\n",
              "      background-color: #E2EBFA;\n",
              "      box-shadow: 0px 1px 2px rgba(60, 64, 67, 0.3), 0px 1px 3px 1px rgba(60, 64, 67, 0.15);\n",
              "      fill: #174EA6;\n",
              "    }\n",
              "\n",
              "    [theme=dark] .colab-df-convert {\n",
              "      background-color: #3B4455;\n",
              "      fill: #D2E3FC;\n",
              "    }\n",
              "\n",
              "    [theme=dark] .colab-df-convert:hover {\n",
              "      background-color: #434B5C;\n",
              "      box-shadow: 0px 1px 3px 1px rgba(0, 0, 0, 0.15);\n",
              "      filter: drop-shadow(0px 1px 2px rgba(0, 0, 0, 0.3));\n",
              "      fill: #FFFFFF;\n",
              "    }\n",
              "  </style>\n",
              "\n",
              "      <script>\n",
              "        const buttonEl =\n",
              "          document.querySelector('#df-209c0650-b32f-475d-9a4b-a32aa56d12d0 button.colab-df-convert');\n",
              "        buttonEl.style.display =\n",
              "          google.colab.kernel.accessAllowed ? 'block' : 'none';\n",
              "\n",
              "        async function convertToInteractive(key) {\n",
              "          const element = document.querySelector('#df-209c0650-b32f-475d-9a4b-a32aa56d12d0');\n",
              "          const dataTable =\n",
              "            await google.colab.kernel.invokeFunction('convertToInteractive',\n",
              "                                                     [key], {});\n",
              "          if (!dataTable) return;\n",
              "\n",
              "          const docLinkHtml = 'Like what you see? Visit the ' +\n",
              "            '<a target=\"_blank\" href=https://colab.research.google.com/notebooks/data_table.ipynb>data table notebook</a>'\n",
              "            + ' to learn more about interactive tables.';\n",
              "          element.innerHTML = '';\n",
              "          dataTable['output_type'] = 'display_data';\n",
              "          await google.colab.output.renderOutput(dataTable, element);\n",
              "          const docLink = document.createElement('div');\n",
              "          docLink.innerHTML = docLinkHtml;\n",
              "          element.appendChild(docLink);\n",
              "        }\n",
              "      </script>\n",
              "    </div>\n",
              "  </div>\n",
              "  "
            ]
          },
          "metadata": {},
          "execution_count": 39
        }
      ],
      "source": [
        "np.round(df.corr(),decimals=2)"
      ]
    },
    {
      "cell_type": "markdown",
      "id": "27d72b35",
      "metadata": {
        "id": "27d72b35"
      },
      "source": [
        "Make a one-predictor linear regression with Price as the outcome (also known as the dependent variable, endogenous variable, or target), and PPM (pages per minute) as the predictor (also known as the independent variable, exogenous variable, or feature)."
      ]
    },
    {
      "cell_type": "code",
      "source": [
        "y, X = dmatrices('good ~ usa', data=df, return_type='dataframe')\n",
        "\n",
        "linear1_model = sm.OLS(y, X)\n",
        "linear1_results = linear1_model.fit()\n",
        "\n",
        "print(linear1_results.summary())"
      ],
      "metadata": {
        "colab": {
          "base_uri": "https://localhost:8080/"
        },
        "id": "4BNI3bMwOdz3",
        "outputId": "bbb1b9f4-b50f-4d9c-ffa7-b116bfcb6bf8"
      },
      "id": "4BNI3bMwOdz3",
      "execution_count": null,
      "outputs": [
        {
          "output_type": "stream",
          "name": "stdout",
          "text": [
            "                            OLS Regression Results                            \n",
            "==============================================================================\n",
            "Dep. Variable:                   good   R-squared:                       0.000\n",
            "Model:                            OLS   Adj. R-squared:                 -0.000\n",
            "Method:                 Least Squares   F-statistic:                 0.0009004\n",
            "Date:                Wed, 18 Jan 2023   Prob (F-statistic):              0.976\n",
            "Time:                        19:38:47   Log-Likelihood:                -2596.6\n",
            "No. Observations:                3651   AIC:                             5197.\n",
            "Df Residuals:                    3649   BIC:                             5210.\n",
            "Df Model:                           1                                         \n",
            "Covariance Type:            nonrobust                                         \n",
            "==============================================================================\n",
            "                 coef    std err          t      P>|t|      [0.025      0.975]\n",
            "------------------------------------------------------------------------------\n",
            "Intercept      0.5852      0.017     35.459      0.000       0.553       0.618\n",
            "usa           -0.0006      0.019     -0.030      0.976      -0.038       0.037\n",
            "==============================================================================\n",
            "Omnibus:                    13847.981   Durbin-Watson:                   1.924\n",
            "Prob(Omnibus):                  0.000   Jarque-Bera (JB):              610.631\n",
            "Skew:                          -0.344   Prob(JB):                    2.53e-133\n",
            "Kurtosis:                       1.118   Cond. No.                         3.82\n",
            "==============================================================================\n",
            "\n",
            "Notes:\n",
            "[1] Standard Errors assume that the covariance matrix of the errors is correctly specified.\n"
          ]
        }
      ]
    },
    {
      "cell_type": "code",
      "source": [],
      "metadata": {
        "id": "pOsP34RzcjTP"
      },
      "id": "pOsP34RzcjTP",
      "execution_count": null,
      "outputs": []
    },
    {
      "cell_type": "markdown",
      "source": [
        "Estimate of the slope shows Coefficient: How one predictor influences the target variable. Here change in usa impacts the target with -0.0006. It means it neglible impact\n",
        "\n",
        "Confidence interval: 0.038 to 0.0317. Theres 95% confidnece that if usa value is between -0.038 to 0.037\n",
        "\n",
        "R square is how much variation is being explained. or proportion of variance in the outcome expalined by this model.So 0 % variance is explained by this model.This means the model is useless. We need r squared above 0.5.\n",
        "\n",
        "The log likelihood is -2596.6 for this model. We want to have model whose log likelihood is small i.e 0.00000....\n",
        "Also, log likelihood is probabliyt of each data point given beta0 beta 1 & sigma. Then we multiply all probablities getting very small number between 0-1.If log likelihood is higher, like towards -80 its good. It means we are matching the data more closely. if its -200 its bad as line is missing the data point\n",
        "\n",
        "\n",
        "AIC is 5197 here. It explains how accurate a model is and how balance it is\n",
        "\n",
        "We also may want to consider stand vartiation of the residuals from rsquared which is the sigma\n",
        "\n",
        "P value: The p value for the model is 0.976. For the model to be better we need p value closer to 0. So the model is not statistically significant"
      ],
      "metadata": {
        "id": "5_s3vB57PAyO"
      },
      "id": "5_s3vB57PAyO"
    },
    {
      "cell_type": "markdown",
      "source": [
        "explanation of the model: "
      ],
      "metadata": {
        "id": "SncRUMvITRMM"
      },
      "id": "SncRUMvITRMM"
    },
    {
      "cell_type": "markdown",
      "source": [
        "all variables"
      ],
      "metadata": {
        "id": "ry-kBcFyObxL"
      },
      "id": "ry-kBcFyObxL"
    },
    {
      "cell_type": "markdown",
      "source": [
        "# A logistic regression model using the predictor variables dirty, wait, last year and usa."
      ],
      "metadata": {
        "id": "XhXEQHKnFiIl"
      },
      "id": "XhXEQHKnFiIl"
    },
    {
      "cell_type": "markdown",
      "source": [
        "# Model 1 : All predictors"
      ],
      "metadata": {
        "id": "Vgy48XDwHszH"
      },
      "id": "Vgy48XDwHszH"
    },
    {
      "cell_type": "code",
      "execution_count": null,
      "id": "2cc3e1d7",
      "metadata": {
        "id": "2cc3e1d7",
        "colab": {
          "base_uri": "https://localhost:8080/"
        },
        "outputId": "92b17d4b-d61c-4ab1-97e1-2af45dc0cf66"
      },
      "outputs": [
        {
          "output_type": "stream",
          "name": "stdout",
          "text": [
            "Optimization terminated successfully.\n",
            "         Current function value: 0.664855\n",
            "         Iterations 5\n",
            "                           Logit Regression Results                           \n",
            "==============================================================================\n",
            "Dep. Variable:                   good   No. Observations:                 3651\n",
            "Model:                          Logit   Df Residuals:                     3646\n",
            "Method:                           MLE   Df Model:                            4\n",
            "Date:                Wed, 18 Jan 2023   Pseudo R-squ.:                 0.02041\n",
            "Time:                        19:38:47   Log-Likelihood:                -2427.4\n",
            "converged:                       True   LL-Null:                       -2478.0\n",
            "Covariance Type:            nonrobust   LLR p-value:                 5.634e-21\n",
            "==============================================================================\n",
            "                 coef    std err          z      P>|z|      [0.025      0.975]\n",
            "------------------------------------------------------------------------------\n",
            "Intercept      0.5848      0.078      7.526      0.000       0.432       0.737\n",
            "dirty         -0.7996      0.106     -7.516      0.000      -1.008      -0.591\n",
            "wait          -0.1038      0.019     -5.560      0.000      -0.140      -0.067\n",
            "lastyear      -0.0014      0.005     -0.309      0.757      -0.011       0.008\n",
            "usa            0.0767      0.080      0.961      0.336      -0.080       0.233\n",
            "==============================================================================\n",
            "AIC of Model 1 = 4864.768411950015\n"
          ]
        }
      ],
      "source": [
        "\n",
        "\n",
        "logistic_model1 = sm2.logit(formula='good ~ dirty+wait+lastyear+usa', data=df).fit()\n",
        "print(logistic_model1.summary())\n",
        "\n",
        "print('AIC of Model 1 =',logistic_model1.aic)"
      ]
    },
    {
      "cell_type": "markdown",
      "source": [
        "From the logistic model build using all the predictors like dirty,wait,lastyear,usa the p value shows that the two predictors dirty and wait has p values greater than 0.000 while other predictors like usa and lastyear have p values 0.357 and 0.735."
      ],
      "metadata": {
        "id": "D6sqFh06B1TW"
      },
      "id": "D6sqFh06B1TW"
    },
    {
      "cell_type": "code",
      "source": [
        "print(np.exp(logistic_model1.params))"
      ],
      "metadata": {
        "colab": {
          "base_uri": "https://localhost:8080/"
        },
        "id": "K3bzK-pBQ1mi",
        "outputId": "5639c51b-55a9-4357-aa2a-8b9027d3589b"
      },
      "id": "K3bzK-pBQ1mi",
      "execution_count": null,
      "outputs": [
        {
          "output_type": "stream",
          "name": "stdout",
          "text": [
            "Intercept    1.794607\n",
            "dirty        0.449516\n",
            "wait         0.901371\n",
            "lastyear     0.998563\n",
            "usa          1.079723\n",
            "dtype: float64\n"
          ]
        }
      ]
    },
    {
      "cell_type": "code",
      "source": [
        "y_pred=logistic_model1.predict(df[['dirty','wait','lastyear','usa']])\n",
        "for i in range(len(y_pred)):\n",
        "  if y_pred[i]>0.5:\n",
        "    y_pred[i]=1\n",
        "  else:\n",
        "    y_pred[i]=0\n",
        "\n",
        "\n",
        "cm=confusion_matrix(df['good'],y_pred)\n",
        "print(metrics.classification_report(df['good'],y_pred))\n"
      ],
      "metadata": {
        "colab": {
          "base_uri": "https://localhost:8080/"
        },
        "id": "ZPYE0A35TCIW",
        "outputId": "40b455f0-7b8a-495d-d41b-4f2c50affd22"
      },
      "id": "ZPYE0A35TCIW",
      "execution_count": null,
      "outputs": [
        {
          "output_type": "stream",
          "name": "stdout",
          "text": [
            "              precision    recall  f1-score   support\n",
            "\n",
            "           0       0.65      0.11      0.18      1516\n",
            "           1       0.60      0.96      0.74      2135\n",
            "\n",
            "    accuracy                           0.61      3651\n",
            "   macro avg       0.63      0.53      0.46      3651\n",
            "weighted avg       0.62      0.61      0.51      3651\n",
            "\n"
          ]
        }
      ]
    },
    {
      "cell_type": "code",
      "source": [
        "cm"
      ],
      "metadata": {
        "colab": {
          "base_uri": "https://localhost:8080/"
        },
        "id": "1R0cnbTlaGk2",
        "outputId": "6b96d0cc-e13f-4dba-d618-222d0d4a08d1"
      },
      "id": "1R0cnbTlaGk2",
      "execution_count": null,
      "outputs": [
        {
          "output_type": "execute_result",
          "data": {
            "text/plain": [
              "array([[ 161, 1355],\n",
              "       [  87, 2048]])"
            ]
          },
          "metadata": {},
          "execution_count": 47
        }
      ]
    },
    {
      "cell_type": "code",
      "source": [
        "sns.heatmap(cm/np.sum(cm), annot=True, \n",
        "            fmt='.2%', cmap='Blues')"
      ],
      "metadata": {
        "colab": {
          "base_uri": "https://localhost:8080/",
          "height": 285
        },
        "id": "FTzMxCecaO8I",
        "outputId": "a8b4bc24-86df-430f-e633-e99618676d33"
      },
      "id": "FTzMxCecaO8I",
      "execution_count": null,
      "outputs": [
        {
          "output_type": "execute_result",
          "data": {
            "text/plain": [
              "<matplotlib.axes._subplots.AxesSubplot at 0x7f5886a62640>"
            ]
          },
          "metadata": {},
          "execution_count": 48
        },
        {
          "output_type": "display_data",
          "data": {
            "text/plain": [
              "<Figure size 432x288 with 2 Axes>"
            ],
            "image/png": "[encoded data removed]"
          },
          "metadata": {
            "needs_background": "light"
          }
        }
      ]
    },
    {
      "cell_type": "code",
      "source": [
        "\n",
        "sns.heatmap(cm, annot=True)"
      ],
      "metadata": {
        "colab": {
          "base_uri": "https://localhost:8080/",
          "height": 285
        },
        "id": "YYLJF9WtZsc3",
        "outputId": "cd74a688-3e03-4c44-db12-254e04843b58"
      },
      "id": "YYLJF9WtZsc3",
      "execution_count": null,
      "outputs": [
        {
          "output_type": "execute_result",
          "data": {
            "text/plain": [
              "<matplotlib.axes._subplots.AxesSubplot at 0x7f588752eeb0>"
            ]
          },
          "metadata": {},
          "execution_count": 46
        },
        {
          "output_type": "display_data",
          "data": {
            "text/plain": [
              "<Figure size 432x288 with 2 Axes>"
            ],
            "image/png": "[encoded data removed]"
          },
          "metadata": {
            "needs_background": "light"
          }
        }
      ]
    },
    {
      "cell_type": "code",
      "source": [
        "group_names = ['True Neg','False Pos','False Neg','True Pos']\n",
        "group_counts = ['{0:0.0f}'.format(value) for value in\n",
        "                cm.flatten()]\n",
        "group_percentages = ['{0:.2%}'.format(value) for value in\n",
        "                     cm.flatten()/np.sum(cm)]\n",
        "labels = [f'{v1}\\n{v2}\\n{v3}' for v1, v2, v3 in\n",
        "          zip(group_names,group_counts,group_percentages)]\n",
        "labels = np.asarray(labels).reshape(2,2)\n",
        "sns.heatmap(cm, annot=labels, fmt='', cmap='Blues')"
      ],
      "metadata": {
        "colab": {
          "base_uri": "https://localhost:8080/",
          "height": 285
        },
        "id": "RIsXKseQYofo",
        "outputId": "80c13312-11c3-41bc-8de5-e449f391dfce"
      },
      "id": "RIsXKseQYofo",
      "execution_count": null,
      "outputs": [
        {
          "output_type": "execute_result",
          "data": {
            "text/plain": [
              "<matplotlib.axes._subplots.AxesSubplot at 0x7f58868af760>"
            ]
          },
          "metadata": {},
          "execution_count": 52
        },
        {
          "output_type": "display_data",
          "data": {
            "text/plain": [
              "<Figure size 432x288 with 2 Axes>"
            ],
            "image/png": "[encoded data removed]"
          },
          "metadata": {
            "needs_background": "light"
          }
        }
      ]
    },
    {
      "cell_type": "markdown",
      "source": [
        "# Model 2 : predictors=dirty,wait,usa"
      ],
      "metadata": {
        "id": "KQvwwRCVHycJ"
      },
      "id": "KQvwwRCVHycJ"
    },
    {
      "cell_type": "code",
      "source": [
        "logistic_model2 = sm2.logit(formula='good ~ dirty+wait+usa', data=df).fit()\n",
        "print(logistic_model2.summary())\n",
        "\n",
        "print('AIC of Model 2 =',logistic_model2.aic)\n"
      ],
      "metadata": {
        "colab": {
          "base_uri": "https://localhost:8080/"
        },
        "id": "TLwqv5zTIwed",
        "outputId": "4eed624d-a5dd-4af0-d5f4-9a49c1e381a2"
      },
      "id": "TLwqv5zTIwed",
      "execution_count": null,
      "outputs": [
        {
          "output_type": "stream",
          "name": "stdout",
          "text": [
            "Optimization terminated successfully.\n",
            "         Current function value: 0.664868\n",
            "         Iterations 5\n",
            "                           Logit Regression Results                           \n",
            "==============================================================================\n",
            "Dep. Variable:                   good   No. Observations:                 3651\n",
            "Model:                          Logit   Df Residuals:                     3647\n",
            "Method:                           MLE   Df Model:                            3\n",
            "Date:                Wed, 18 Jan 2023   Pseudo R-squ.:                 0.02039\n",
            "Time:                        19:51:18   Log-Likelihood:                -2427.4\n",
            "converged:                       True   LL-Null:                       -2478.0\n",
            "Covariance Type:            nonrobust   LLR p-value:                 9.280e-22\n",
            "==============================================================================\n",
            "                 coef    std err          z      P>|z|      [0.025      0.975]\n",
            "------------------------------------------------------------------------------\n",
            "Intercept      0.5813      0.077      7.560      0.000       0.431       0.732\n",
            "dirty         -0.8018      0.106     -7.555      0.000      -1.010      -0.594\n",
            "wait          -0.1041      0.019     -5.585      0.000      -0.141      -0.068\n",
            "usa            0.0749      0.080      0.941      0.347      -0.081       0.231\n",
            "==============================================================================\n",
            "AIC of Model 2 = 4862.863652885326\n"
          ]
        }
      ]
    },
    {
      "cell_type": "code",
      "source": [
        "print(np.exp(logistic_model2.params))"
      ],
      "metadata": {
        "colab": {
          "base_uri": "https://localhost:8080/"
        },
        "id": "b_a7E4fsQta-",
        "outputId": "f7a92b26-c520-4ab4-cf68-39ae34f6af58"
      },
      "id": "b_a7E4fsQta-",
      "execution_count": null,
      "outputs": [
        {
          "output_type": "stream",
          "name": "stdout",
          "text": [
            "Intercept    1.788442\n",
            "dirty        0.448500\n",
            "wait         0.901091\n",
            "usa          1.077766\n",
            "dtype: float64\n"
          ]
        }
      ]
    },
    {
      "cell_type": "code",
      "source": [
        "y_pred=logistic_model2.predict(df[['dirty','wait','usa']])\n",
        "for i in range(len(y_pred)):\n",
        "  if y_pred[i]>0.5:\n",
        "    y_pred[i]=1\n",
        "  else:\n",
        "    y_pred[i]=0\n",
        "\n",
        "\n",
        "cm=confusion_matrix(df['good'],y_pred)\n",
        "\n",
        "\n",
        "\n",
        "print(metrics.classification_report(df['good'],y_pred))\n"
      ],
      "metadata": {
        "colab": {
          "base_uri": "https://localhost:8080/"
        },
        "outputId": "4ff29af3-c3ea-454e-e6b3-672516fc812d",
        "id": "168cquuab-Bj"
      },
      "execution_count": null,
      "outputs": [
        {
          "output_type": "stream",
          "name": "stdout",
          "text": [
            "              precision    recall  f1-score   support\n",
            "\n",
            "           0       0.65      0.11      0.18      1516\n",
            "           1       0.60      0.96      0.74      2135\n",
            "\n",
            "    accuracy                           0.61      3651\n",
            "   macro avg       0.63      0.53      0.46      3651\n",
            "weighted avg       0.62      0.61      0.51      3651\n",
            "\n"
          ]
        }
      ],
      "id": "168cquuab-Bj"
    },
    {
      "cell_type": "code",
      "source": [
        "cm"
      ],
      "metadata": {
        "colab": {
          "base_uri": "https://localhost:8080/"
        },
        "id": "4JFZBlAAcaiR",
        "outputId": "2f2cd3d4-d8d6-4787-b023-4c7cf9db6125"
      },
      "id": "4JFZBlAAcaiR",
      "execution_count": null,
      "outputs": [
        {
          "output_type": "execute_result",
          "data": {
            "text/plain": [
              "array([[ 161, 1355],\n",
              "       [  87, 2048]])"
            ]
          },
          "metadata": {},
          "execution_count": 60
        }
      ]
    },
    {
      "cell_type": "code",
      "source": [
        "group_names = ['True Neg','False Pos','False Neg','True Pos']\n",
        "group_counts = ['{0:0.0f}'.format(value) for value in\n",
        "                cm.flatten()]\n",
        "group_percentages = ['{0:.2%}'.format(value) for value in\n",
        "                     cm.flatten()/np.sum(cm)]\n",
        "labels = [f'{v1}\\n{v2}\\n{v3}' for v1, v2, v3 in\n",
        "          zip(group_names,group_counts,group_percentages)]\n",
        "labels = np.asarray(labels).reshape(2,2)\n",
        "sns.heatmap(cm, annot=labels, fmt='', cmap='Blues')"
      ],
      "metadata": {
        "colab": {
          "base_uri": "https://localhost:8080/",
          "height": 285
        },
        "outputId": "c622a462-09a5-4789-9de2-fdac91acacdb",
        "id": "tPHsm07Jb-Bk"
      },
      "execution_count": null,
      "outputs": [
        {
          "output_type": "execute_result",
          "data": {
            "text/plain": [
              "<matplotlib.axes._subplots.AxesSubplot at 0x7f588674c9d0>"
            ]
          },
          "metadata": {},
          "execution_count": 61
        },
        {
          "output_type": "display_data",
          "data": {
            "text/plain": [
              "<Figure size 432x288 with 2 Axes>"
            ],
            "image/png": "[encoded data removed]"
          },
          "metadata": {
            "needs_background": "light"
          }
        }
      ],
      "id": "tPHsm07Jb-Bk"
    },
    {
      "cell_type": "markdown",
      "source": [
        "# Model 3 : predictors=dirty,wait"
      ],
      "metadata": {
        "id": "c_yYJo9IH4JF"
      },
      "id": "c_yYJo9IH4JF"
    },
    {
      "cell_type": "code",
      "source": [
        "logistic_model3 = sm2.logit(formula='good ~ dirty+wait', data=df).fit()\n",
        "print(logistic_model3.summary())\n",
        "print('AIC of Model 3 =',logistic_model3.aic)"
      ],
      "metadata": {
        "colab": {
          "base_uri": "https://localhost:8080/"
        },
        "id": "eLuuln9jJHAy",
        "outputId": "2c271627-ba9a-4757-8b7e-9220a295e70b"
      },
      "id": "eLuuln9jJHAy",
      "execution_count": null,
      "outputs": [
        {
          "output_type": "stream",
          "name": "stdout",
          "text": [
            "Optimization terminated successfully.\n",
            "         Current function value: 0.664989\n",
            "         Iterations 5\n",
            "                           Logit Regression Results                           \n",
            "==============================================================================\n",
            "Dep. Variable:                   good   No. Observations:                 3651\n",
            "Model:                          Logit   Df Residuals:                     3648\n",
            "Method:                           MLE   Df Model:                            2\n",
            "Date:                Fri, 20 Jan 2023   Pseudo R-squ.:                 0.02021\n",
            "Time:                        13:33:11   Log-Likelihood:                -2427.9\n",
            "converged:                       True   LL-Null:                       -2478.0\n",
            "Covariance Type:            nonrobust   LLR p-value:                 1.783e-22\n",
            "==============================================================================\n",
            "                 coef    std err          z      P>|z|      [0.025      0.975]\n",
            "------------------------------------------------------------------------------\n",
            "Intercept      0.6334      0.054     11.829      0.000       0.528       0.738\n",
            "dirty         -0.7971      0.106     -7.526      0.000      -1.005      -0.590\n",
            "wait          -0.1023      0.019     -5.520      0.000      -0.139      -0.066\n",
            "==============================================================================\n",
            "AIC of Model 3 = 4861.747587554466\n"
          ]
        }
      ]
    },
    {
      "cell_type": "markdown",
      "source": [
        "The 'dy/dx' value is the slope at a particular set of predictor values, in terms of the risk. So, we can present this much more simply for non-statistical audiences. Instead of talking about log-odds or odds ratios, we can say:\n",
        "\"For the average person in the dataset (who is aged 33 and has income of 3.4), a 1 point increase in income will add 3% onto their probability of getting accepted.\"\n",
        "\n",
        "We should visualise the predictions against the observed values if we can. This might help us to spot problems and ways we might improve the model. The residuals for a binary variable are not so easy to show and understand as in a linear regression. Instead, we can show predictors, 2 at a time, with the observed acceptance encoded as colour, and the predicted risk as size:\n"
      ],
      "metadata": {
        "id": "qvLj1l48f0fN"
      },
      "id": "qvLj1l48f0fN"
    },
    {
      "cell_type": "code",
      "source": [
        "print('----- the mean predictor values -----')\n",
        "print(np.mean(df['dirty']))\n",
        "print(np.mean(df['wait']))\n",
        "\n",
        "print('\\n----- the predicted odds of acceptance at these mean values -----')\n",
        "print(np.exp(logistic_model3.params[0] + \n",
        "             logistic_model3.params[1]*np.mean(df['dirty']) + \n",
        "             logistic_model3.params[2]*np.mean(df['wait'])))\n",
        "\n",
        "print('\\n----- the predicted risk at the mean -----')\n",
        "print(1/(1+np.exp(-1*(logistic_model3.params[0] + \n",
        "                      logistic_model3.params[1]*np.mean(df['dirty']) + \n",
        "                      logistic_model3.params[2]*np.mean(df['wait'])))))\n",
        "\n",
        "print('\\n----- marginal effects -----')\n",
        "\n",
        "logistic_model3.get_margeff(at=\"mean\").summary()"
      ],
      "metadata": {
        "colab": {
          "base_uri": "https://localhost:8080/",
          "height": 362
        },
        "id": "BpiZ2qcvfdBQ",
        "outputId": "507fd1b3-5481-4807-9505-a43402237597"
      },
      "id": "BpiZ2qcvfdBQ",
      "execution_count": null,
      "outputs": [
        {
          "output_type": "stream",
          "name": "stdout",
          "text": [
            "----- the mean predictor values -----\n",
            "0.09285127362366474\n",
            "2.1258394960284854\n",
            "\n",
            "----- the predicted odds of acceptance at these mean values -----\n",
            "1.4077568004799044\n",
            "\n",
            "----- the predicted risk at the mean -----\n",
            "0.5846756616778388\n",
            "\n",
            "----- marginal effects -----\n"
          ]
        },
        {
          "output_type": "execute_result",
          "data": {
            "text/plain": [
              "<class 'statsmodels.iolib.summary.Summary'>\n",
              "\"\"\"\n",
              "        Logit Marginal Effects       \n",
              "=====================================\n",
              "Dep. Variable:                   good\n",
              "Method:                          dydx\n",
              "At:                              mean\n",
              "==============================================================================\n",
              "                dy/dx    std err          z      P>|z|      [0.025      0.975]\n",
              "------------------------------------------------------------------------------\n",
              "dirty         -0.1936      0.026     -7.503      0.000      -0.244      -0.143\n",
              "wait          -0.0248      0.004     -5.522      0.000      -0.034      -0.016\n",
              "==============================================================================\n",
              "\"\"\""
            ],
            "text/html": [
              "<table class=\"simpletable\">\n",
              "<caption>Logit Marginal Effects</caption>\n",
              "<tr>\n",
              "  <th>Dep. Variable:</th> <td>good</td>\n",
              "</tr>\n",
              "<tr>\n",
              "  <th>Method:</th>        <td>dydx</td>\n",
              "</tr>\n",
              "<tr>\n",
              "  <th>At:</th>            <td>mean</td>\n",
              "</tr>\n",
              "</table>\n",
              "<table class=\"simpletable\">\n",
              "<tr>\n",
              "    <th></th>       <th>dy/dx</th>    <th>std err</th>      <th>z</th>      <th>P>|z|</th>  <th>[0.025</th>    <th>0.975]</th>  \n",
              "</tr>\n",
              "<tr>\n",
              "  <th>dirty</th> <td>   -0.1936</td> <td>    0.026</td> <td>   -7.503</td> <td> 0.000</td> <td>   -0.244</td> <td>   -0.143</td>\n",
              "</tr>\n",
              "<tr>\n",
              "  <th>wait</th>  <td>   -0.0248</td> <td>    0.004</td> <td>   -5.522</td> <td> 0.000</td> <td>   -0.034</td> <td>   -0.016</td>\n",
              "</tr>\n",
              "</table>"
            ]
          },
          "metadata": {},
          "execution_count": 13
        }
      ]
    },
    {
      "cell_type": "code",
      "source": [
        "AME=logistic_model3.get_margeff(at='overall',method='dydx')\n",
        "AME.summary()"
      ],
      "metadata": {
        "colab": {
          "base_uri": "https://localhost:8080/",
          "height": 165
        },
        "id": "wgEKT8lcZCvx",
        "outputId": "85d08f81-4512-4ab8-de2d-3f5bdb5fee32"
      },
      "id": "wgEKT8lcZCvx",
      "execution_count": null,
      "outputs": [
        {
          "output_type": "execute_result",
          "data": {
            "text/plain": [
              "<class 'statsmodels.iolib.summary.Summary'>\n",
              "\"\"\"\n",
              "        Logit Marginal Effects       \n",
              "=====================================\n",
              "Dep. Variable:                   good\n",
              "Method:                          dydx\n",
              "At:                           overall\n",
              "==============================================================================\n",
              "                dy/dx    std err          z      P>|z|      [0.025      0.975]\n",
              "------------------------------------------------------------------------------\n",
              "dirty         -0.1883      0.024     -7.751      0.000      -0.236      -0.141\n",
              "wait          -0.0242      0.004     -5.610      0.000      -0.033      -0.016\n",
              "==============================================================================\n",
              "\"\"\""
            ],
            "text/html": [
              "<table class=\"simpletable\">\n",
              "<caption>Logit Marginal Effects</caption>\n",
              "<tr>\n",
              "  <th>Dep. Variable:</th>  <td>good</td>  \n",
              "</tr>\n",
              "<tr>\n",
              "  <th>Method:</th>         <td>dydx</td>  \n",
              "</tr>\n",
              "<tr>\n",
              "  <th>At:</th>            <td>overall</td>\n",
              "</tr>\n",
              "</table>\n",
              "<table class=\"simpletable\">\n",
              "<tr>\n",
              "    <th></th>       <th>dy/dx</th>    <th>std err</th>      <th>z</th>      <th>P>|z|</th>  <th>[0.025</th>    <th>0.975]</th>  \n",
              "</tr>\n",
              "<tr>\n",
              "  <th>dirty</th> <td>   -0.1883</td> <td>    0.024</td> <td>   -7.751</td> <td> 0.000</td> <td>   -0.236</td> <td>   -0.141</td>\n",
              "</tr>\n",
              "<tr>\n",
              "  <th>wait</th>  <td>   -0.0242</td> <td>    0.004</td> <td>   -5.610</td> <td> 0.000</td> <td>   -0.033</td> <td>   -0.016</td>\n",
              "</tr>\n",
              "</table>"
            ]
          },
          "metadata": {},
          "execution_count": 11
        }
      ]
    },
    {
      "cell_type": "code",
      "source": [
        "print(AME)"
      ],
      "metadata": {
        "colab": {
          "base_uri": "https://localhost:8080/"
        },
        "id": "JHKWPzDrZPPU",
        "outputId": "edbb7d83-8201-40fd-ac95-59786540789c"
      },
      "id": "JHKWPzDrZPPU",
      "execution_count": null,
      "outputs": [
        {
          "output_type": "stream",
          "name": "stdout",
          "text": [
            "<statsmodels.discrete.discrete_margins.DiscreteMargins object at 0x7f1ea3b63280>\n"
          ]
        }
      ]
    },
    {
      "cell_type": "markdown",
      "source": [
        "converting coefficents of model for predictors dirty==-0.1695  and wait=-0.0245 for the odds ration \n",
        "\n",
        "Also comparions of log likelihood is important."
      ],
      "metadata": {
        "id": "dr2gQCnRHLxN"
      },
      "id": "dr2gQCnRHLxN"
    },
    {
      "cell_type": "code",
      "source": [
        "print(np.exp(logistic_model3.params))"
      ],
      "metadata": {
        "colab": {
          "base_uri": "https://localhost:8080/"
        },
        "id": "rMtxPuNJQnQy",
        "outputId": "1f5ae833-c2d6-4084-931b-25fff5f6b5c5"
      },
      "id": "rMtxPuNJQnQy",
      "execution_count": null,
      "outputs": [
        {
          "output_type": "stream",
          "name": "stdout",
          "text": [
            "Intercept    1.884045\n",
            "dirty        0.450637\n",
            "wait         0.902785\n",
            "dtype: float64\n"
          ]
        }
      ]
    },
    {
      "cell_type": "code",
      "source": [
        "y_pred=logistic_model3.predict(df[['dirty','wait']])\n",
        "for i in range(len(y_pred)):\n",
        "  if y_pred[i]>0.5:\n",
        "    y_pred[i]=1\n",
        "  else:\n",
        "    y_pred[i]=0\n",
        "\n",
        "from sklearn.metrics import confusion_matrix\n",
        "cm=confusion_matrix(df['good'],y_pred)\n",
        "\n",
        "from sklearn.metrics import classification_report\n",
        "from sklearn import metrics\n",
        "\n",
        "print(metrics.classification_report(df['good'],y_pred))\n"
      ],
      "metadata": {
        "colab": {
          "base_uri": "https://localhost:8080/"
        },
        "outputId": "38f96f51-7b81-438a-b8b1-d48b121f6427",
        "id": "6H9FMbHpch7m"
      },
      "execution_count": null,
      "outputs": [
        {
          "output_type": "stream",
          "name": "stdout",
          "text": [
            "              precision    recall  f1-score   support\n",
            "\n",
            "           0       0.65      0.11      0.18      1516\n",
            "           1       0.60      0.96      0.74      2135\n",
            "\n",
            "    accuracy                           0.61      3651\n",
            "   macro avg       0.63      0.53      0.46      3651\n",
            "weighted avg       0.62      0.61      0.51      3651\n",
            "\n"
          ]
        }
      ],
      "id": "6H9FMbHpch7m"
    },
    {
      "cell_type": "code",
      "source": [
        "cm"
      ],
      "metadata": {
        "colab": {
          "base_uri": "https://localhost:8080/"
        },
        "outputId": "7f7d81c3-1f00-4174-85ca-bfc2c4a3cba6",
        "id": "w8w3ERG5ch7n"
      },
      "execution_count": null,
      "outputs": [
        {
          "output_type": "execute_result",
          "data": {
            "text/plain": [
              "array([[ 161, 1355],\n",
              "       [  87, 2048]])"
            ]
          },
          "metadata": {},
          "execution_count": 66
        }
      ],
      "id": "w8w3ERG5ch7n"
    },
    {
      "cell_type": "code",
      "source": [
        "group_names = ['True Neg','False Pos','False Neg','True Pos']\n",
        "group_counts = ['{0:0.0f}'.format(value) for value in\n",
        "                cm.flatten()]\n",
        "group_percentages = ['{0:.2%}'.format(value) for value in\n",
        "                     cm.flatten()/np.sum(cm)]\n",
        "labels = [f'{v1}\\n{v2}\\n{v3}' for v1, v2, v3 in\n",
        "          zip(group_names,group_counts,group_percentages)]\n",
        "labels = np.asarray(labels).reshape(2,2)\n",
        "sns.heatmap(cm, annot=labels, fmt='', cmap='Blues')"
      ],
      "metadata": {
        "colab": {
          "base_uri": "https://localhost:8080/",
          "height": 285
        },
        "outputId": "dc1d8379-f633-4bfb-822e-9573efa11612",
        "id": "mVgQpxX7ch7n"
      },
      "execution_count": null,
      "outputs": [
        {
          "output_type": "execute_result",
          "data": {
            "text/plain": [
              "<matplotlib.axes._subplots.AxesSubplot at 0x7f5888765040>"
            ]
          },
          "metadata": {},
          "execution_count": 67
        },
        {
          "output_type": "display_data",
          "data": {
            "text/plain": [
              "<Figure size 432x288 with 2 Axes>"
            ],
            "image/png": "[encoded data removed]"
          },
          "metadata": {
            "needs_background": "light"
          }
        }
      ],
      "id": "mVgQpxX7ch7n"
    },
    {
      "cell_type": "code",
      "source": [
        "print('----- the mean predictor values -----')\n",
        "print(np.mean(df['dirty']))\n",
        "print(np.mean(df['wait']))\n",
        "\n",
        "print('\\n----- the predicted odds of acceptance at these mean values -----')\n",
        "print(np.exp(logistic_model3.params[0] + \n",
        "             logistic_model3.params[1]*np.mean(df['dirty']) + \n",
        "             logistic_model3.params[2]*np.mean(df['wait'])))\n",
        "\n",
        "print('\\n----- the predicted risk at the mean -----')\n",
        "print(1/(1+np.exp(-1*(logistic_model3.params[0] + \n",
        "                      logistic_model3.params[1]*np.mean(df['dirty']) + \n",
        "                      logistic_model3.params[2]*np.mean(df['wait'])))))\n",
        "\n",
        "print('\\n----- marginal effects -----')\n",
        "\n",
        "logistic_model3.get_margeff(at=\"mean\").summary()"
      ],
      "metadata": {
        "id": "Al3vKG42SlSa"
      },
      "execution_count": null,
      "outputs": [],
      "id": "Al3vKG42SlSa"
    },
    {
      "cell_type": "code",
      "source": [
        "logistic_model3"
      ],
      "metadata": {
        "id": "oO6gtA5-ScvW"
      },
      "execution_count": null,
      "outputs": [],
      "id": "oO6gtA5-ScvW"
    },
    {
      "cell_type": "code",
      "execution_count": null,
      "metadata": {
        "id": "a7c49774"
      },
      "outputs": [],
      "source": [
        "df_prediction=df.assign(bestmodel=logistic_model3.predict())\n",
        "df_prediction.head()"
      ],
      "id": "a7c49774"
    },
    {
      "cell_type": "code",
      "source": [
        "df_prediction"
      ],
      "metadata": {
        "id": "ydUNMMFLB1XE"
      },
      "execution_count": null,
      "outputs": [],
      "id": "ydUNMMFLB1XE"
    },
    {
      "cell_type": "code",
      "source": [
        "!pwd"
      ],
      "metadata": {
        "id": "vGrV6o3Ud2WH"
      },
      "execution_count": null,
      "outputs": [],
      "id": "vGrV6o3Ud2WH"
    },
    {
      "cell_type": "code",
      "source": [
        "cd /content/drive/MyDrive/Data_visiualization"
      ],
      "metadata": {
        "id": "KUdZNYeUd4i9"
      },
      "execution_count": null,
      "outputs": [],
      "id": "KUdZNYeUd4i9"
    },
    {
      "cell_type": "code",
      "source": [
        "df_prediction.to_csv('bestmodel.csv')"
      ],
      "metadata": {
        "id": "mIO5azyFKlzj"
      },
      "execution_count": null,
      "outputs": [],
      "id": "mIO5azyFKlzj"
    },
    {
      "cell_type": "markdown",
      "source": [
        "# Model 4"
      ],
      "metadata": {
        "id": "Fz9olMYmO04e"
      },
      "id": "Fz9olMYmO04e"
    },
    {
      "cell_type": "code",
      "source": [
        "logistic_model4 = sm2.logit(formula='good ~ dirty', data=df).fit()\n",
        "print(logistic_model4.summary())\n",
        "print('AIC of Model 4 =',logistic_model4.aic)"
      ],
      "metadata": {
        "colab": {
          "base_uri": "https://localhost:8080/"
        },
        "id": "Uib76AIcirFw",
        "outputId": "11eed594-4236-437f-fd32-76b150a0e6f5"
      },
      "id": "Uib76AIcirFw",
      "execution_count": null,
      "outputs": [
        {
          "output_type": "stream",
          "name": "stdout",
          "text": [
            "Optimization terminated successfully.\n",
            "         Current function value: 0.669166\n",
            "         Iterations 5\n",
            "                           Logit Regression Results                           \n",
            "==============================================================================\n",
            "Dep. Variable:                   good   No. Observations:                 3651\n",
            "Model:                          Logit   Df Residuals:                     3649\n",
            "Method:                           MLE   Df Model:                            1\n",
            "Date:                Wed, 18 Jan 2023   Pseudo R-squ.:                 0.01405\n",
            "Time:                        19:55:15   Log-Likelihood:                -2443.1\n",
            "converged:                       True   LL-Null:                       -2478.0\n",
            "Covariance Type:            nonrobust   LLR p-value:                 7.071e-17\n",
            "==============================================================================\n",
            "                 coef    std err          z      P>|z|      [0.025      0.975]\n",
            "------------------------------------------------------------------------------\n",
            "Intercept      0.4128      0.035     11.842      0.000       0.344       0.481\n",
            "dirty         -0.7907      0.105     -7.506      0.000      -0.997      -0.584\n",
            "==============================================================================\n",
            "AIC of Model 4 = 4890.2522872490845\n"
          ]
        }
      ]
    },
    {
      "cell_type": "code",
      "source": [
        "print(np.exp(logistic_model4.params))"
      ],
      "metadata": {
        "colab": {
          "base_uri": "https://localhost:8080/"
        },
        "id": "XpUFneEjPNmh",
        "outputId": "d263a384-fb17-472f-fe14-d73d4175bcb1"
      },
      "id": "XpUFneEjPNmh",
      "execution_count": null,
      "outputs": [
        {
          "output_type": "stream",
          "name": "stdout",
          "text": [
            "Intercept    1.510984\n",
            "dirty        0.453519\n",
            "dtype: float64\n"
          ]
        }
      ]
    },
    {
      "cell_type": "code",
      "source": [],
      "metadata": {
        "id": "YD7sx--dSciD"
      },
      "id": "YD7sx--dSciD",
      "execution_count": null,
      "outputs": []
    },
    {
      "cell_type": "code",
      "source": [],
      "metadata": {
        "id": "oKm2wEjmCM-4"
      },
      "id": "oKm2wEjmCM-4",
      "execution_count": null,
      "outputs": []
    },
    {
      "cell_type": "markdown",
      "id": "32fb91f8",
      "metadata": {
        "id": "32fb91f8"
      },
      "source": [
        "Get a scatterplot of Price vs PPM, with the predicted line superimposed."
      ]
    },
    {
      "cell_type": "code",
      "execution_count": null,
      "id": "588206cb",
      "metadata": {
        "id": "588206cb"
      },
      "outputs": [],
      "source": [
        "\n",
        "sb.scatterplot(x=\"PPM\", y=\"Price\", data=ij)\n",
        "sb.lineplot(x=\"PPM\", y=\"linear1_predicted\", data=ij)"
      ]
    },
    {
      "cell_type": "markdown",
      "id": "efc6fc12",
      "metadata": {
        "id": "efc6fc12"
      },
      "source": [
        "Calculate residuals from this linear regression and plot them against PPM (this should be uncorrelated with no pattern or trend)."
      ]
    },
    {
      "cell_type": "code",
      "execution_count": null,
      "id": "85178617",
      "metadata": {
        "id": "85178617"
      },
      "outputs": [],
      "source": [
        "\n",
        "ij=ij.assign(linear1_residual=(ij[\"Price\"]-ij[\"linear1_predicted\"]))\n",
        "ij.head()\n",
        "\n",
        "sb.scatterplot(x=\"PPM\", y=\"linear1_residual\", data=ij).axhline(0)\n"
      ]
    },
    {
      "cell_type": "markdown",
      "id": "c8215e21",
      "metadata": {
        "id": "c8215e21"
      },
      "source": [
        "🤔 These are the assumptions of linear regression models. If these are not met, then there is a risk that the model fit will be wrong. Are you satisfied that they have all been checked?\n",
        "\n",
        "- the relationship is a straight line\n",
        "- the residuals are normally distributed around the prediction line\n",
        "- the residual standard deviation (therefore variance too) is constant for all values of the predicted outcome\n",
        "- the observations are independent of one another\n",
        "\n",
        "Often, we check these by just visualising some aspect of the data and the model. These are graphs that we analysts look at, but probably do not share with decision-makers as they will find it hard to understand them. They do not have to be pretty.\n",
        "\n",
        "Beginners in statistics often want more certainty and objectivity than just looking at charts. There are some tests for these assumptions, but they can have poor error rates with small datasets, and they will not tell you what is wrong, only that the data do not quite match the assumptions. It is more useful to visualise for this task.\n"
      ]
    },
    {
      "cell_type": "markdown",
      "id": "0c528bdf",
      "metadata": {
        "id": "0c528bdf"
      },
      "source": [
        "## Part 2: Multiple linear regression"
      ]
    },
    {
      "cell_type": "markdown",
      "id": "9f8b612e",
      "metadata": {
        "id": "9f8b612e"
      },
      "source": [
        "Now plot these residuals against CostBW"
      ]
    },
    {
      "cell_type": "code",
      "execution_count": null,
      "id": "4d35023b",
      "metadata": {
        "id": "4d35023b"
      },
      "outputs": [],
      "source": [
        "sb.scatterplot(x=\"CostBW\", y=\"linear1_residual\", data=ij).axhline(0)\n",
        "\n"
      ]
    },
    {
      "cell_type": "markdown",
      "id": "9b44cf31",
      "metadata": {
        "id": "9b44cf31"
      },
      "source": [
        "Is there some suggestion of a trend? Are the residuals high at one end of CostBW's values and low at the other? If so, CostBW should be considered as another predictor variable.\n"
      ]
    },
    {
      "cell_type": "markdown",
      "id": "32f6c6d4",
      "metadata": {
        "id": "32f6c6d4"
      },
      "source": [
        "Fit a new linear regression with both PPM and CostBW as predictors."
      ]
    },
    {
      "cell_type": "code",
      "execution_count": null,
      "id": "247fdedf",
      "metadata": {
        "id": "247fdedf"
      },
      "outputs": [],
      "source": [
        "y, X = dmatrices('Price ~ PPM + CostBW', data=ij, return_type='dataframe')\n",
        "linear2_model = sm.OLS(y, X)\n",
        "linear2_results = linear2_model.fit()\n",
        "print(linear2_results.summary())\n"
      ]
    },
    {
      "cell_type": "markdown",
      "id": "0d3e163a",
      "metadata": {
        "id": "0d3e163a"
      },
      "source": [
        "🤔 How would you explain the coefficients of this regression to someone who knew about inkjet printers but knew nothing about statistics? This is the prediction formula:\n",
        "\n",
        "$$ \\mathrm{PredictedPrice}_i = \\beta_0 + \\beta_1 \\mathrm{PPM}_i + \\beta_2 \\mathrm{CostBW}_i $$\n",
        "\n",
        "and this is the distribution of (residual) scatter around the predictions:\n",
        "\n",
        "$$ \\mathrm{Price}_i \\sim \\mathrm{Normal}(\\mathrm{PredictedPrice}_i, \\sigma) $$\n",
        "\n",
        "The betas are the regression coefficient, and the sigma is the residual standard deviation."
      ]
    },
    {
      "cell_type": "markdown",
      "id": "70bb4e7c",
      "metadata": {
        "id": "70bb4e7c"
      },
      "source": [
        "🤔 Compare the r-squared values from this 2-predictor model and the previous 1-predictor model. The 2-predictor model explains more of the variance, but does that mean it is a better model?"
      ]
    },
    {
      "cell_type": "markdown",
      "id": "84d965cd",
      "metadata": {
        "id": "84d965cd"
      },
      "source": [
        "To choose the best model, we need to balance complexity against predictive accuracy. By adding more predictor variables, we explain more variance, but there is no guarantee that the predictions will be more accurate. This is the problem of over-fitting, which reflects a problem called the bias-variance tradeoff. In large datasets, we can check this by cross-validation. In small datasets, this is not an option but we can look at statistics such as the Akaike Information Criterion (AIC).\n",
        "\n",
        "The AIC is the loss function called the deviance, which is -2 times the log-likelihood, plus a penalty term, which is 2 times the number of parameters. Adding more parameters will improve the log-likelihood and give a smaller deviance, but will also add a penalty. The model is only \"better\" if the AIC is smaller.\n",
        "\n",
        "In Python statsmodels, the AIC is already displayed in the summary output above."
      ]
    },
    {
      "cell_type": "markdown",
      "id": "1e6dbb3c",
      "metadata": {
        "id": "1e6dbb3c"
      },
      "source": [
        "(If you happen to run both the R and Python code, you will see slightly different AICs. This is because statsmodels implements a small-sample correction to the formula. As long as you are using one package consistently to calculate it, you'll be fine.)"
      ]
    },
    {
      "cell_type": "markdown",
      "id": "f9d6d2b5",
      "metadata": {
        "id": "f9d6d2b5"
      },
      "source": [
        "🤔 Compare the coefficients for PPM in the two models. Why has adding CostBW changed it? Look back at the correlation matrix near the beginning to help you with this.\n",
        "\n",
        "(Also see the corresponding part of the Word document for a Directed Acyclic Graph (DAG))"
      ]
    },
    {
      "cell_type": "markdown",
      "id": "1c355e52",
      "metadata": {
        "id": "1c355e52"
      },
      "source": [
        "## Part 3: logistic regression"
      ]
    },
    {
      "cell_type": "markdown",
      "id": "4915fe9d",
      "metadata": {
        "id": "4915fe9d"
      },
      "source": [
        "Let's work with a new dataset, which contains 1319 records on whether a bank accepted an application for a credit card account."
      ]
    },
    {
      "cell_type": "code",
      "execution_count": null,
      "id": "8203f5cd",
      "metadata": {
        "id": "8203f5cd"
      },
      "outputs": [],
      "source": [
        "cc = pd.read_csv(\"CreditCard.csv\")\n",
        "cc.head()"
      ]
    },
    {
      "cell_type": "markdown",
      "id": "dca09592",
      "metadata": {
        "id": "dca09592"
      },
      "source": [
        "We will use cc$card (whether the applicant was accepted) as the binary outcome. We have to first convert it into 0 and 1."
      ]
    },
    {
      "cell_type": "code",
      "execution_count": null,
      "id": "a473ae1b",
      "metadata": {
        "id": "a473ae1b"
      },
      "outputs": [],
      "source": [
        "cc=cc.assign(accepted=(cc['card']==\"yes\"))\n",
        "cc['accepted']=cc['accepted'].astype(int)\n",
        "cc.head()"
      ]
    },
    {
      "cell_type": "markdown",
      "id": "00ae7dca",
      "metadata": {
        "id": "00ae7dca"
      },
      "source": [
        "Our predictors will be age and income. Here is a scatterplot of those two variables, with the color showing the value of accepted: blue for 0 and orange for 1."
      ]
    },
    {
      "cell_type": "code",
      "execution_count": null,
      "id": "664d3dc9",
      "metadata": {
        "id": "664d3dc9"
      },
      "outputs": [],
      "source": [
        "sb.scatterplot(x=\"age\", y=\"income\", hue=\"accepted\",\n",
        "               data=cc)\n",
        "\n"
      ]
    },
    {
      "cell_type": "markdown",
      "id": "258f90ca",
      "metadata": {
        "id": "258f90ca"
      },
      "source": [
        "Fit the logistic regression:"
      ]
    },
    {
      "cell_type": "code",
      "execution_count": null,
      "id": "abc8d526",
      "metadata": {
        "id": "abc8d526"
      },
      "outputs": [],
      "source": [
        "import statsmodels.formula.api as sm2\n",
        "logistic_model = sm2.logit(formula='accepted~age+income', data=cc).fit()\n",
        "print(logistic_model.summary())\n"
      ]
    },
    {
      "cell_type": "markdown",
      "id": "1ae83de1",
      "metadata": {
        "id": "1ae83de1"
      },
      "source": [
        "(Note that we should not compare this AIC with those from linear regression, because the outcome, or target, variable, is completely different.) This has given us beta coefficients (on the log-odds scale). We can convert them to odds ratios:"
      ]
    },
    {
      "cell_type": "code",
      "execution_count": null,
      "id": "fa51cb91",
      "metadata": {
        "id": "fa51cb91"
      },
      "outputs": [],
      "source": [
        "print(np.exp(logistic_model.params))"
      ]
    },
    {
      "cell_type": "markdown",
      "id": "38cc282c",
      "metadata": {
        "id": "38cc282c"
      },
      "source": [
        "🤔 How would you explain these odds ratios and confidence intervals?\n",
        "\n",
        "We have seen that showing marginal effects is very useful in logistic regression because of the non-linear relationship between the predictor variables and the predicted risk of an event. In R, we can use the 'marginaleffects' package for this; in Python, the 'statsmodels' package allows it.\n"
      ]
    },
    {
      "cell_type": "code",
      "execution_count": null,
      "id": "da76db82",
      "metadata": {
        "id": "da76db82"
      },
      "outputs": [],
      "source": [
        "print('----- the mean predictor values -----')\n",
        "print(np.mean(cc['age']))\n",
        "print(np.mean(cc['income']))\n",
        "\n",
        "print('\\n----- the predicted odds of acceptance at these mean values -----')\n",
        "print(np.exp(logistic_model.params[0] + \n",
        "             logistic_model.params[1]*np.mean(cc['age']) + \n",
        "             logistic_model.params[2]*np.mean(cc['income'])))\n",
        "\n",
        "print('\\n----- the predicted risk at the mean -----')\n",
        "print(1/(1+np.exp(-1*(logistic_model.params[0] + \n",
        "                      logistic_model.params[1]*np.mean(cc['age']) + \n",
        "                      logistic_model.params[2]*np.mean(cc['income'])))))\n",
        "\n",
        "print('\\n----- marginal effects -----')\n",
        "\n",
        "logistic_model.get_margeff(at=\"mean\").summary()"
      ]
    },
    {
      "cell_type": "markdown",
      "id": "592bf898",
      "metadata": {
        "id": "592bf898"
      },
      "source": [
        "The 'dy/dx' value is the slope at a particular set of predictor values, in terms of the risk. So, we can present this much more simply for non-statistical audiences. Instead of talking about log-odds or odds ratios, we can say:\n",
        "\"For the average person in the dataset (who is aged 33 and has income of 3.4), a 1 point increase in income will add 3% onto their probability of getting accepted.\"\n",
        "\n",
        "We should visualise the predictions against the observed values if we can. This might help us to spot problems and ways we might improve the model. The residuals for a binary variable are not so easy to show and understand as in a linear regression. Instead, we can show predictors, 2 at a time, with the observed acceptance encoded as colour, and the predicted risk as size:\n"
      ]
    },
    {
      "cell_type": "code",
      "execution_count": null,
      "id": "db0538c4",
      "metadata": {
        "id": "db0538c4"
      },
      "outputs": [],
      "source": []
    },
    {
      "cell_type": "markdown",
      "id": "d75cab38",
      "metadata": {
        "id": "d75cab38"
      },
      "source": [
        "Or we can cut the predicted risk at some level (say, 0.78, which was the predicted risk at the means of the predictor variables), and colour the points red if they were wrongly allocated:\n",
        "\n"
      ]
    },
    {
      "cell_type": "code",
      "execution_count": null,
      "id": "379e0695",
      "metadata": {
        "id": "379e0695"
      },
      "outputs": [],
      "source": []
    },
    {
      "cell_type": "markdown",
      "id": "b5b25cb1",
      "metadata": {
        "id": "b5b25cb1"
      },
      "source": [
        "If we can see a pattern in these incorrect classifications, then that might suggest an improvement in our model. Finally, we should look at a classification table (also called a confusion matrix):"
      ]
    },
    {
      "cell_type": "code",
      "execution_count": null,
      "id": "0cd05346",
      "metadata": {
        "id": "0cd05346"
      },
      "outputs": [],
      "source": []
    },
    {
      "cell_type": "markdown",
      "id": "5805ab95",
      "metadata": {
        "id": "5805ab95"
      },
      "source": [
        "We can see from this that the more common kind of error is to predict acceptance when actually the application was rejected (top-right entry). This suggests that we need to raise the cutoff value for predicting acceptance above 0.78."
      ]
    },
    {
      "cell_type": "code",
      "execution_count": null,
      "id": "2611f71d",
      "metadata": {
        "id": "2611f71d"
      },
      "outputs": [],
      "source": []
    },
    {
      "cell_type": "code",
      "execution_count": null,
      "id": "c4eff5c3",
      "metadata": {
        "id": "c4eff5c3"
      },
      "outputs": [],
      "source": []
    }
  ],
  "metadata": {
    "kernelspec": {
      "display_name": "Python 3 (ipykernel)",
      "language": "python",
      "name": "python3"
    },
    "language_info": {
      "codemirror_mode": {
        "name": "ipython",
        "version": 3
      },
      "file_extension": ".py",
      "mimetype": "text/x-python",
      "name": "python",
      "nbconvert_exporter": "python",
      "pygments_lexer": "ipython3",
      "version": "3.10.5"
    },
    "colab": {
      "provenance": [],
      "include_colab_link": true
    }
  },
  "nbformat": 4,
  "nbformat_minor": 5
}